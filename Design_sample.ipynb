{
 "cells": [
  {
   "cell_type": "code",
   "execution_count": 1,
   "id": "f098635f",
   "metadata": {},
   "outputs": [],
   "source": [
    "import numpy as np\n",
    "import matplotlib.pyplot as plt\n",
    "from qiskit import QuantumCircuit, Aer\n",
    "from qiskit_algorithms.optimizers import COBYLA\n",
    "from qiskit.utils import QuantumInstance\n",
    "from qiskit_machine_learning.algorithms.classifiers import NeuralNetworkClassifier, VQC\n",
    "from qiskit.circuit import ParameterVector"
   ]
  },
  {
   "cell_type": "code",
   "execution_count": 2,
   "id": "dbeddac8",
   "metadata": {},
   "outputs": [],
   "source": [
    "# Prepare graph data...\n",
    "import os\n",
    "from collections import namedtuple\n",
    "Graph = namedtuple('Graph', ['X', 'Ri', 'Ro', 'y'])\n",
    "class GraphDataset():\n",
    "    def __init__(self, input_dir, n_samples=None):\n",
    "        input_dir = os.path.expandvars(input_dir)\n",
    "        filenames = [os.path.join(input_dir, f) for f in os.listdir(input_dir)\n",
    "                     if f.startswith('event') and f.endswith('.npz')]\n",
    "        self.filenames = (\n",
    "            filenames[:n_samples] if n_samples is not None else filenames)\n",
    "\n",
    "    def __getitem__(self, index):\n",
    "        return load_graph(self.filenames[index])\n",
    "\n",
    "    def __len__(self):\n",
    "        return len(self.filenames)\n",
    "def get_dataset(input_dir,n_files):\n",
    "    return GraphDataset(input_dir, n_files)\n",
    "def load_graph(filename):\n",
    "    graph_dir = os.path.join(os.getcwd(), 'graphs')\n",
    "    # Construct the full path to the specified file\n",
    "    full_path = os.path.join(graph_dir, filename)\n",
    "    \"\"\"Read a single graph NPZ\"\"\"\n",
    "    with np.load(full_path) as f:\n",
    "        return sparse_to_graph(**dict(f.items()))\n",
    "def sparse_to_graph(X, Ri_rows, Ri_cols, Ro_rows, Ro_cols, y, dtype=np.float32):\n",
    "    n_nodes, n_edges = X.shape[0], Ri_rows.shape[0]\n",
    "    Ri = np.zeros((n_nodes, n_edges), dtype=dtype)\n",
    "    Ro = np.zeros((n_nodes, n_edges), dtype=dtype)\n",
    "    Ri[Ri_rows, Ri_cols] = 1\n",
    "    Ro[Ro_rows, Ro_cols] = 1\n",
    "    return Graph(X, Ri, Ro, y)\n",
    "#Function to load X, Ri, Ro, Y.\n",
    "def load_raw(graph_name,xyr):\n",
    "    graph_ex=load_graph(graph_name)\n",
    "    #Load raw data\n",
    "    y=graph_ex.y\n",
    "    Ri=graph_ex.Ri\n",
    "    Ro=graph_ex.Ro\n",
    "    X=graph_ex.X\n",
    "    if xyr=='X':\n",
    "        return X\n",
    "    elif xyr=='Ri':\n",
    "        return Ri\n",
    "    elif xyr=='Ro':\n",
    "        return Ro\n",
    "    else:\n",
    "        return y"
   ]
  },
  {
   "cell_type": "code",
   "execution_count": 4,
   "id": "57f89b70",
   "metadata": {},
   "outputs": [
    {
     "name": "stdout",
     "output_type": "stream",
     "text": [
      "features data loaded...\n"
     ]
    }
   ],
   "source": [
    "# Load X data of dimension Nv x 4(including color)\n",
    "import os\n",
    "import pandas as pd\n",
    "dir_ = os.path.join(os.getcwd(), 'color')\n",
    "#dir_ = os.path.join(os.getcwd(), 'coloredX')\n",
    "file_path = os.path.join(dir_, \"event000001000_g000.csv\")\n",
    "v = pd.read_csv(file_path)\n",
    "print(\"features data loaded...\")"
   ]
  },
  {
   "cell_type": "code",
   "execution_count": 5,
   "id": "af1742d2",
   "metadata": {},
   "outputs": [
    {
     "name": "stdout",
     "output_type": "stream",
     "text": [
      "edge data loaded...\n"
     ]
    }
   ],
   "source": [
    "#Convenient representation of edge data \n",
    "#edges = [[i1,j1], [i2,j2], ... ]; i1, i2,... are outgoing-nodes, and j1, j2, ... are incoming-nodes\n",
    "import json\n",
    "graph='event000001000_g000'\n",
    "with open(\"./networks/\"+graph+\".json\", \"r\") as json_file:\n",
    "        _,_,edges= json.load(json_file)\n",
    "print(\"edge data loaded...\")"
   ]
  },
  {
   "cell_type": "code",
   "execution_count": 6,
   "id": "0c775dbb",
   "metadata": {},
   "outputs": [
    {
     "name": "stdout",
     "output_type": "stream",
     "text": [
      "Adjacency matrix prepared...\n"
     ]
    }
   ],
   "source": [
    "#Reduced adjacency matrix A\n",
    "cut=5\n",
    "#A[i][j]==1 implies there is an edge between i, j-th nodes.\n",
    "A=[[0 for _ in range(cut)] for _ in range(cut)]\n",
    "#Collect edges with its end in the \"cut\" bound\n",
    "red_edges=[]\n",
    "for s,e in edges:\n",
    "    if s<cut and e<cut:\n",
    "        red_edges.append([s,e])\n",
    "for s,e in red_edges:\n",
    "    A[s][e]=1\n",
    "print(\"Adjacency matrix prepared...\")"
   ]
  },
  {
   "cell_type": "code",
   "execution_count": 7,
   "id": "d263cceb",
   "metadata": {},
   "outputs": [
    {
     "name": "stdout",
     "output_type": "stream",
     "text": [
      "All 4 features encoded in QC...\n"
     ]
    }
   ],
   "source": [
    "from qiskit import QuantumCircuit\n",
    "from qiskit.circuit import Parameter\n",
    "# Reduced colored X data\n",
    "raw_data=v[:cut].values\n",
    "# Create a quantum circuit with Nv qubits\n",
    "Nv = len(raw_data)\n",
    "num_qubits = Nv * 4  # 4 qubits per row (x,y,z,color)\n",
    "# Initialize a quantum circuit\n",
    "import math\n",
    "qc = QuantumCircuit(num_qubits)\n",
    "feature = []\n",
    "for i in range(num_qubits):\n",
    "    feature.append(Parameter('phi_{}'.format(i)))\n",
    "# Encode each feature value into a qubit \n",
    "for i in range(Nv):\n",
    "    for j in range(4):\n",
    "        qc.ry(feature[i*4+j], i * 4+j)\n",
    "    #Entangle 3 positions\n",
    "    qc.cx(i * 4, i * 4 + 1)\n",
    "    qc.cx(i * 4 + 1, i * 4 + 2)\n",
    "    qc.cx(i * 4 + 2, i * 4)\n",
    "    #Entangle color and position-x.\n",
    "    qc.cx(i * 4, i * 4 + 3)\n",
    "# Encode each feature value into a qubit \n",
    "print(\"All 4 features encoded in QC...\")"
   ]
  },
  {
   "cell_type": "code",
   "execution_count": 8,
   "id": "834607cb",
   "metadata": {},
   "outputs": [
    {
     "name": "stdout",
     "output_type": "stream",
     "text": [
      "Entangling qubits using fake adjacency matrix...\n",
      "Parameterized quantum circuit ready...\n"
     ]
    }
   ],
   "source": [
    "# Define a list of trainable parameters for the entanglement\n",
    "num_params = len(A)  # Number of trainable parameters for the entanglement\n",
    "ansatz = []\n",
    "for i in range(num_params):\n",
    "    ansatz.append(Parameter('theta_{}'.format(i)))\n",
    "print(\"Entangling qubits using fake adjacency matrix...\")\n",
    "# Apply trainable entanglement gates based on adjacency matrix A\n",
    "for i in range(len(A)):\n",
    "    qc.ry(ansatz[i],i*4)\n",
    "for i in range(len(A)):\n",
    "    for j in range(i + 1, len(A)):\n",
    "        if A[i][j] == 1:\n",
    "            # Use trainable parameters for entanglement angles\n",
    "            qc.cx(i * 4, j * 4)\n",
    "print(\"Parameterized quantum circuit ready...\")"
   ]
  },
  {
   "cell_type": "code",
   "execution_count": 9,
   "id": "7e0747ec",
   "metadata": {},
   "outputs": [
    {
     "name": "stdout",
     "output_type": "stream",
     "text": [
      "Compare Y with the following positions..\n",
      "[0, 1, 1, 1, 1]\n"
     ]
    }
   ],
   "source": [
    "# Add measurement operations based on adjacency matrix A\n",
    "look = [0 for _ in range(len(A))]\n",
    "for i in range(len(A)):\n",
    "    for j in range(i + 1, len(A)):\n",
    "        if A[i][j] == 1:\n",
    "            look[j]=1\n",
    "#Edge info is collected in look\n",
    "#Would like to compare it with QNN output\n",
    "print(\"Compare Y with the following positions..\")\n",
    "print(look)"
   ]
  },
  {
   "cell_type": "code",
   "execution_count": 10,
   "id": "3254df8f",
   "metadata": {
    "scrolled": false
   },
   "outputs": [
    {
     "data": {
      "image/png": "[encoded data removed]",
      "text/plain": [
       "<Figure size 701.723x1228.08 with 1 Axes>"
      ]
     },
     "execution_count": 10,
     "metadata": {},
     "output_type": "execute_result"
    }
   ],
   "source": [
    "from qiskit import transpile\n",
    "# Transpile the circuit for execution\n",
    "simulator = Aer.get_backend('qasm_simulator')\n",
    "full_circuit = transpile(qc, simulator)\n",
    "# Visualize the transpiled circuit\n",
    "full_circuit.draw(output='mpl')"
   ]
  },
  {
   "cell_type": "code",
   "execution_count": 11,
   "id": "8f4cb851",
   "metadata": {},
   "outputs": [],
   "source": [
    "#Implement quantum neural network\n",
    "from qiskit_machine_learning.neural_networks import SamplerQNN, EstimatorQNN\n",
    "#Custom interpreter for our purpose:\n",
    "#Create size Ne binary string\n",
    "def custom_interpret(x):\n",
    "    binary_str=\"{:b}\".format(x)\n",
    "    slice_length = len(binary_str) // Nv\n",
    "    results = 0\n",
    "    for i in range(Nv):\n",
    "        s, e = i * slice_length, (i + 1) * slice_length\n",
    "        #Chop up the binary string into Nv pieces\n",
    "        slice_binary = binary_str[s:e]\n",
    "        #Collect information for each piece\n",
    "        parity = slice_binary.count(\"1\") % 2\n",
    "        #Form an integer using the bits\n",
    "        results+=(parity*2**i)\n",
    "    return results\n",
    "# construct QNN\n",
    "sampler_qnn = SamplerQNN(\n",
    "    circuit=qc,\n",
    "    input_params=feature,\n",
    "    weight_params=ansatz,\n",
    "    interpret = custom_interpret,\n",
    "    #Output shape is 2^(number of qubits)\n",
    "    output_shape = 2**Nv\n",
    ")"
   ]
  },
  {
   "cell_type": "code",
   "execution_count": 12,
   "id": "c9c33870",
   "metadata": {
    "scrolled": false
   },
   "outputs": [
    {
     "name": "stdout",
     "output_type": "stream",
     "text": [
      "training... current loss is... [-0.41925983]\n",
      "training... current loss is... [-0.51298909]\n",
      "training... current loss is... [-0.52101599]\n",
      "training... current loss is... [-0.57668663]\n",
      "training... current loss is... [-0.54959129]\n",
      "training... current loss is... [-0.51801783]\n",
      "training... current loss is... [-0.64564221]\n",
      "training... current loss is... [-0.6669725]\n",
      "training... current loss is... [-0.68198223]\n",
      "training... current loss is... [-0.65761273]\n",
      "training... current loss is... [-0.65992216]\n",
      "training... current loss is... [-0.66338826]\n",
      "training... current loss is... [-0.65690493]\n",
      "training... current loss is... [-0.689472]\n",
      "training... current loss is... [-0.69097205]\n",
      "training... current loss is... [-0.68969339]\n",
      "training... current loss is... [-0.69006763]\n",
      "training... current loss is... [-0.69285292]\n",
      "training... current loss is... [-0.69230837]\n",
      "training... current loss is... [-0.69359631]\n",
      "Fitted!\n"
     ]
    }
   ],
   "source": [
    "# Callback function to plot the loss\n",
    "from IPython.display import clear_output\n",
    "#Set the same label for all 4 qubits in a single node\n",
    "def expand_y(y):\n",
    "    n=len(y)\n",
    "    Y=[0 for _ in range(4*n)]\n",
    "    for i in range(n):\n",
    "        for j in range(4):\n",
    "            Y[4*i+j]=y[i]\n",
    "    return np.array(Y)\n",
    "objective_func_vals = []\n",
    "#Loss graph to track the training\n",
    "def callback_graph(weights, obj_func_eval):\n",
    "    clear_output(wait=True)\n",
    "    objective_func_vals.append(obj_func_eval)\n",
    "    plt.title(\"Objective function value against iteration\")\n",
    "    plt.xlabel(\"Iteration\")\n",
    "    plt.ylabel(\"Objective function value\")\n",
    "    plt.plot(range(len(objective_func_vals)), objective_func_vals)\n",
    "    plt.show()\n",
    "def simple_callback(weights,obj_func_eval):\n",
    "    print(\"training...\",\"current loss is...\",obj_func_eval)\n",
    "# Create a neural network classifier\n",
    "sampler_classifier = NeuralNetworkClassifier(\n",
    "    neural_network=sampler_qnn,optimizer=COBYLA(maxiter=20),\n",
    "    loss='cross_entropy',callback=simple_callback)\n",
    "# Prepare data for training (quantum circuits and labels)\n",
    "y = load_raw('event000001000_g000.npz','y')\n",
    "# For now, only look at first \"cut\" edges.\n",
    "Y = y[:cut]  # True edge labels of dimension\n",
    "Y = expand_y(Y)\n",
    "flat_raw_data=raw_data.flatten()\n",
    "# Train the classifier using the encoded quantum circuits and labels\n",
    "sampler_classifier.fit(flat_raw_data, Y)\n",
    "print(\"Fitted!\")"
   ]
  },
  {
   "cell_type": "code",
   "execution_count": 19,
   "id": "264a00a9",
   "metadata": {},
   "outputs": [
    {
     "name": "stdout",
     "output_type": "stream",
     "text": [
      "01101\n"
     ]
    }
   ],
   "source": [
    "# It's supposed to produce something like \n",
    "# look='10101'\n",
    "def intTobit(arr):\n",
    "    n=arr[0]\n",
    "    st=''\n",
    "    while n>0:\n",
    "        n,q=divmod(n,2)\n",
    "        st+=str(q)\n",
    "    if len(st)<Nv:\n",
    "        st+='0'\n",
    "    print(st[::-1])\n",
    "intTobit(sampler_classifier.predict(flat_raw_data))"
   ]
  },
  {
   "cell_type": "code",
   "execution_count": 20,
   "id": "63023b9a",
   "metadata": {},
   "outputs": [
    {
     "data": {
      "text/plain": [
       "[0, 1, 1, 1, 1]"
      ]
     },
     "execution_count": 20,
     "metadata": {},
     "output_type": "execute_result"
    }
   ],
   "source": [
    "look"
   ]
  },
  {
   "cell_type": "code",
   "execution_count": 22,
   "id": "b49c3381",
   "metadata": {},
   "outputs": [
    {
     "data": {
      "text/plain": [
       "array([1., 0., 0., 0., 0.], dtype=float32)"
      ]
     },
     "execution_count": 22,
     "metadata": {},
     "output_type": "execute_result"
    }
   ],
   "source": [
    "y[:5]"
   ]
  },
  {
   "cell_type": "code",
   "execution_count": null,
   "id": "00057987",
   "metadata": {},
   "outputs": [],
   "source": []
  }
 ],
 "metadata": {
  "kernelspec": {
   "display_name": "Python 3",
   "language": "python",
   "name": "python3"
  },
  "language_info": {
   "codemirror_mode": {
    "name": "ipython",
    "version": 3
   },
   "file_extension": ".py",
   "mimetype": "text/x-python",
   "name": "python",
   "nbconvert_exporter": "python",
   "pygments_lexer": "ipython3",
   "version": "3.8.8"
  }
 },
 "nbformat": 4,
 "nbformat_minor": 5
}
