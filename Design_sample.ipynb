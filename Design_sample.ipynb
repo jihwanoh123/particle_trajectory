{
 "cells": [
  {
   "cell_type": "code",
   "execution_count": 1,
   "id": "f098635f",
   "metadata": {},
   "outputs": [],
   "source": [
    "import numpy as np\n",
    "import matplotlib.pyplot as plt\n",
    "from qiskit import QuantumCircuit, Aer\n",
    "from qiskit_algorithms.optimizers import COBYLA\n",
    "from qiskit.utils import QuantumInstance\n",
    "from qiskit_machine_learning.algorithms.classifiers import NeuralNetworkClassifier, VQC\n",
    "from qiskit.circuit import ParameterVector"
   ]
  },
  {
   "cell_type": "code",
   "execution_count": 3,
   "id": "dbeddac8",
   "metadata": {},
   "outputs": [],
   "source": [
    "# Prepare graph data...\n",
    "import os\n",
    "from collections import namedtuple\n",
    "Graph = namedtuple('Graph', ['X', 'Ri', 'Ro', 'y'])\n",
    "class GraphDataset():\n",
    "    def __init__(self, input_dir, n_samples=None):\n",
    "        input_dir = os.path.expandvars(input_dir)\n",
    "        filenames = [os.path.join(input_dir, f) for f in os.listdir(input_dir)\n",
    "                     if f.startswith('event') and f.endswith('.npz')]\n",
    "        self.filenames = (\n",
    "            filenames[:n_samples] if n_samples is not None else filenames)\n",
    "\n",
    "    def __getitem__(self, index):\n",
    "        return load_graph(self.filenames[index])\n",
    "\n",
    "    def __len__(self):\n",
    "        return len(self.filenames)\n",
    "def get_dataset(input_dir,n_files):\n",
    "    return GraphDataset(input_dir, n_files)\n",
    "def load_graph(filename):\n",
    "    graph_dir = os.path.join(os.getcwd(), 'graphs')\n",
    "    # Construct the full path to the specified file\n",
    "    full_path = os.path.join(graph_dir, filename)\n",
    "    \"\"\"Read a single graph NPZ\"\"\"\n",
    "    with np.load(full_path) as f:\n",
    "        return sparse_to_graph(**dict(f.items()))\n",
    "def sparse_to_graph(X, Ri_rows, Ri_cols, Ro_rows, Ro_cols, y, dtype=np.float32):\n",
    "    n_nodes, n_edges = X.shape[0], Ri_rows.shape[0]\n",
    "    Ri = np.zeros((n_nodes, n_edges), dtype=dtype)\n",
    "    Ro = np.zeros((n_nodes, n_edges), dtype=dtype)\n",
    "    Ri[Ri_rows, Ri_cols] = 1\n",
    "    Ro[Ro_rows, Ro_cols] = 1\n",
    "    return Graph(X, Ri, Ro, y)\n",
    "#Function to load X, Ri, Ro, Y.\n",
    "def load_raw(graph_name,xyr):\n",
    "    graph_ex=load_graph(graph_name)\n",
    "    #Load raw data\n",
    "    y=graph_ex.y\n",
    "    Ri=graph_ex.Ri\n",
    "    Ro=graph_ex.Ro\n",
    "    X=graph_ex.X\n",
    "    if xyr=='X':\n",
    "        return X\n",
    "    elif xyr=='Ri':\n",
    "        return Ri\n",
    "    elif xyr=='Ro':\n",
    "        return Ro\n",
    "    else:\n",
    "        return y"
   ]
  },
  {
   "cell_type": "code",
   "execution_count": 4,
   "id": "738bc2ef",
   "metadata": {},
   "outputs": [],
   "source": [
    "#Load Ri, Ro edge data of dimension Nv x Ne.\n",
    "Ri=load_raw('event000001000_g000.npz','Ri')\n",
    "Ro=load_raw('event000001000_g000.npz','Ro')\n",
    "Ri,Ro=Ri.T,Ro.T\n",
    "Rio=Ri+Ro"
   ]
  },
  {
   "cell_type": "code",
   "execution_count": 5,
   "id": "57f89b70",
   "metadata": {},
   "outputs": [
    {
     "name": "stdout",
     "output_type": "stream",
     "text": [
      "features data loaded...\n"
     ]
    }
   ],
   "source": [
    "#Load X data of dimension Nv x 4(including color)\n",
    "import os\n",
    "import pandas as pd\n",
    "#dir_ = os.path.join(os.getcwd(), 'color')\n",
    "dir_ = os.path.join(os.getcwd(), 'coloredX')\n",
    "file_path = os.path.join(dir_, f\"{'event000001000_g000'}.csv\")\n",
    "v = pd.read_csv(file_path)\n",
    "print(\"features data loaded...\")"
   ]
  },
  {
   "cell_type": "code",
   "execution_count": 6,
   "id": "af1742d2",
   "metadata": {},
   "outputs": [
    {
     "name": "stdout",
     "output_type": "stream",
     "text": [
      "edge data loaded...\n"
     ]
    }
   ],
   "source": [
    "#Convenient representation of edge data \n",
    "#edges = [[i1,j1], [i2,j2], ... ]; i1, i2,... are outgoing-nodes, and j1, j2, ... are incoming-nodes\n",
    "import json\n",
    "graph='event000001000_g000'\n",
    "with open(\"./networks/\"+graph+\".json\", \"r\") as json_file:\n",
    "        _,_,edges= json.load(json_file)\n",
    "print(\"edge data loaded...\")"
   ]
  },
  {
   "cell_type": "code",
   "execution_count": 7,
   "id": "0c775dbb",
   "metadata": {},
   "outputs": [
    {
     "name": "stdout",
     "output_type": "stream",
     "text": [
      "Adjacency matrix prepared...\n"
     ]
    }
   ],
   "source": [
    "#Reduced adjacency matrix A\n",
    "#A[i][j]==1 implies there is an edge between i, j-th nodes.\n",
    "A=[[0 for _ in range(10)] for _ in range(10)]\n",
    "red_edges=[]\n",
    "for s,e in edges:\n",
    "    if s<10 and e<10:\n",
    "        red_edges.append([s,e])\n",
    "for s,e in red_edges:\n",
    "    A[s][e]=1\n",
    "print(\"Adjacency matrix prepared...\")"
   ]
  },
  {
   "cell_type": "code",
   "execution_count": 8,
   "id": "d263cceb",
   "metadata": {},
   "outputs": [
    {
     "name": "stdout",
     "output_type": "stream",
     "text": [
      "All 4 features encoded in QC...\n",
      "Entangling qubits using fake adjacency matrix...\n",
      "Parameterized quantum circuit ready...\n"
     ]
    }
   ],
   "source": [
    "from qiskit import QuantumCircuit\n",
    "from qiskit.circuit import Parameter\n",
    "# Reduced colored X data\n",
    "raw_data=v[:10].values\n",
    "# Create a quantum circuit with Nv qubits\n",
    "Nv = len(raw_data)\n",
    "num_qubits = Nv * 4  # 4 qubits per row (x,y,z,color)\n",
    "# Initialize a quantum circuit\n",
    "qc = QuantumCircuit(num_qubits)\n",
    "feature = [Parameter(f'phi_{i}') for i in range(num_qubits)]\n",
    "# Encode each feature value into a qubit \n",
    "for i in range(Nv):\n",
    "    for j in range(4):\n",
    "        qc.ry(feature[i * 4 + j], i * 4 + j)\n",
    "    #Entangle 3 positions\n",
    "    qc.cx(i * 4, i * 4 + 1)\n",
    "    qc.cx(i * 4 + 1, i * 4 + 2)\n",
    "    qc.cx(i * 4 + 2, i * 4)\n",
    "    #Entangle color and position-x.\n",
    "    qc.cx(i * 4, i * 4 + 3)\n",
    "# Encode each feature value into a qubit \n",
    "print(\"All 4 features encoded in QC...\")\n",
    "# Define a list of trainable parameters for the entanglement\n",
    "num_params = len(A)  # Number of trainable parameters for the entanglement\n",
    "ansatz = [Parameter(f'theta_{i}') for i in range(num_params)]\n",
    "print(\"Entangling qubits using fake adjacency matrix...\")\n",
    "# Apply trainable entanglement gates based on adjacency matrix A\n",
    "for i in range(len(A)):\n",
    "    for j in range(i + 1, len(A)):\n",
    "        if A[i][j] == 1:\n",
    "            # Use trainable parameters for entanglement angles\n",
    "            qc.cx(i * 4, j * 4)\n",
    "            qc.ry(ansatz[i], i * 4)\n",
    "            qc.ry(ansatz[j], j * 4)\n",
    "print(\"Parameterized quantum circuit ready...\")"
   ]
  },
  {
   "cell_type": "code",
   "execution_count": 87,
   "id": "7e0747ec",
   "metadata": {},
   "outputs": [
    {
     "name": "stdout",
     "output_type": "stream",
     "text": [
      "Creating a measurement circuit...\n",
      "...\n"
     ]
    },
    {
     "ename": "CircuitError",
     "evalue": "'Index 0 out of range for size 0.'",
     "output_type": "error",
     "traceback": [
      "\u001b[0;31m---------------------------------------------------------------------------\u001b[0m",
      "\u001b[0;31mIndexError\u001b[0m                                Traceback (most recent call last)",
      "\u001b[0;32m~/opt/anaconda3/lib/python3.8/site-packages/qiskit/circuit/quantumcircuit.py\u001b[0m in \u001b[0;36m_bit_argument_conversion\u001b[0;34m(specifier, bit_sequence, bit_set, type_)\u001b[0m\n\u001b[1;32m   5224\u001b[0m         \u001b[0;32mtry\u001b[0m\u001b[0;34m:\u001b[0m\u001b[0;34m\u001b[0m\u001b[0;34m\u001b[0m\u001b[0m\n\u001b[0;32m-> 5225\u001b[0;31m             \u001b[0;32mreturn\u001b[0m \u001b[0;34m[\u001b[0m\u001b[0mbit_sequence\u001b[0m\u001b[0;34m[\u001b[0m\u001b[0mspecifier\u001b[0m\u001b[0;34m]\u001b[0m\u001b[0;34m]\u001b[0m\u001b[0;34m\u001b[0m\u001b[0;34m\u001b[0m\u001b[0m\n\u001b[0m\u001b[1;32m   5226\u001b[0m         \u001b[0;32mexcept\u001b[0m \u001b[0mIndexError\u001b[0m \u001b[0;32mas\u001b[0m \u001b[0mex\u001b[0m\u001b[0;34m:\u001b[0m\u001b[0;34m\u001b[0m\u001b[0;34m\u001b[0m\u001b[0m\n",
      "\u001b[0;31mIndexError\u001b[0m: list index out of range",
      "\nThe above exception was the direct cause of the following exception:\n",
      "\u001b[0;31mCircuitError\u001b[0m                              Traceback (most recent call last)",
      "\u001b[0;32m<ipython-input-87-d6dededeb30e>\u001b[0m in \u001b[0;36m<module>\u001b[0;34m\u001b[0m\n\u001b[1;32m     10\u001b[0m             \u001b[0mprint\u001b[0m\u001b[0;34m(\u001b[0m\u001b[0;34m\"...\"\u001b[0m\u001b[0;34m)\u001b[0m\u001b[0;34m\u001b[0m\u001b[0;34m\u001b[0m\u001b[0m\n\u001b[1;32m     11\u001b[0m             \u001b[0;31m# Measure the qubits corresponding to nodes i and j\u001b[0m\u001b[0;34m\u001b[0m\u001b[0;34m\u001b[0m\u001b[0;34m\u001b[0m\u001b[0m\n\u001b[0;32m---> 12\u001b[0;31m             \u001b[0mmeasure_circuit\u001b[0m\u001b[0;34m.\u001b[0m\u001b[0mmeasure\u001b[0m\u001b[0;34m(\u001b[0m\u001b[0mi\u001b[0m \u001b[0;34m*\u001b[0m \u001b[0;36m4\u001b[0m\u001b[0;34m,\u001b[0m \u001b[0mi\u001b[0m \u001b[0;34m*\u001b[0m \u001b[0;36m4\u001b[0m\u001b[0;34m)\u001b[0m\u001b[0;34m\u001b[0m\u001b[0;34m\u001b[0m\u001b[0m\n\u001b[0m\u001b[1;32m     13\u001b[0m             \u001b[0mmeasure_circuit\u001b[0m\u001b[0;34m.\u001b[0m\u001b[0mmeasure\u001b[0m\u001b[0;34m(\u001b[0m\u001b[0mj\u001b[0m \u001b[0;34m*\u001b[0m \u001b[0;36m4\u001b[0m\u001b[0;34m,\u001b[0m \u001b[0mj\u001b[0m \u001b[0;34m*\u001b[0m \u001b[0;36m4\u001b[0m\u001b[0;34m)\u001b[0m\u001b[0;34m\u001b[0m\u001b[0;34m\u001b[0m\u001b[0m\n\u001b[1;32m     14\u001b[0m             \u001b[0;31m# Add the measurement circuit to the list\u001b[0m\u001b[0;34m\u001b[0m\u001b[0;34m\u001b[0m\u001b[0;34m\u001b[0m\u001b[0m\n",
      "\u001b[0;32m~/opt/anaconda3/lib/python3.8/site-packages/qiskit/circuit/quantumcircuit.py\u001b[0m in \u001b[0;36mmeasure\u001b[0;34m(self, qubit, cbit)\u001b[0m\n\u001b[1;32m   2357\u001b[0m \u001b[0;34m\u001b[0m\u001b[0m\n\u001b[1;32m   2358\u001b[0m         \"\"\"\n\u001b[0;32m-> 2359\u001b[0;31m         \u001b[0;32mreturn\u001b[0m \u001b[0mself\u001b[0m\u001b[0;34m.\u001b[0m\u001b[0mappend\u001b[0m\u001b[0;34m(\u001b[0m\u001b[0mMeasure\u001b[0m\u001b[0;34m(\u001b[0m\u001b[0;34m)\u001b[0m\u001b[0;34m,\u001b[0m \u001b[0;34m[\u001b[0m\u001b[0mqubit\u001b[0m\u001b[0;34m]\u001b[0m\u001b[0;34m,\u001b[0m \u001b[0;34m[\u001b[0m\u001b[0mcbit\u001b[0m\u001b[0;34m]\u001b[0m\u001b[0;34m)\u001b[0m\u001b[0;34m\u001b[0m\u001b[0;34m\u001b[0m\u001b[0m\n\u001b[0m\u001b[1;32m   2360\u001b[0m \u001b[0;34m\u001b[0m\u001b[0m\n\u001b[1;32m   2361\u001b[0m     \u001b[0;32mdef\u001b[0m \u001b[0mmeasure_active\u001b[0m\u001b[0;34m(\u001b[0m\u001b[0mself\u001b[0m\u001b[0;34m,\u001b[0m \u001b[0minplace\u001b[0m\u001b[0;34m:\u001b[0m \u001b[0mbool\u001b[0m \u001b[0;34m=\u001b[0m \u001b[0;32mTrue\u001b[0m\u001b[0;34m)\u001b[0m \u001b[0;34m->\u001b[0m \u001b[0mOptional\u001b[0m\u001b[0;34m[\u001b[0m\u001b[0;34m\"QuantumCircuit\"\u001b[0m\u001b[0;34m]\u001b[0m\u001b[0;34m:\u001b[0m\u001b[0;34m\u001b[0m\u001b[0;34m\u001b[0m\u001b[0m\n",
      "\u001b[0;32m~/opt/anaconda3/lib/python3.8/site-packages/qiskit/circuit/quantumcircuit.py\u001b[0m in \u001b[0;36mappend\u001b[0;34m(self, instruction, qargs, cargs)\u001b[0m\n\u001b[1;32m   1277\u001b[0m \u001b[0;34m\u001b[0m\u001b[0m\n\u001b[1;32m   1278\u001b[0m         \u001b[0mexpanded_qargs\u001b[0m \u001b[0;34m=\u001b[0m \u001b[0;34m[\u001b[0m\u001b[0mself\u001b[0m\u001b[0;34m.\u001b[0m\u001b[0mqbit_argument_conversion\u001b[0m\u001b[0;34m(\u001b[0m\u001b[0mqarg\u001b[0m\u001b[0;34m)\u001b[0m \u001b[0;32mfor\u001b[0m \u001b[0mqarg\u001b[0m \u001b[0;32min\u001b[0m \u001b[0mqargs\u001b[0m \u001b[0;32mor\u001b[0m \u001b[0;34m[\u001b[0m\u001b[0;34m]\u001b[0m\u001b[0;34m]\u001b[0m\u001b[0;34m\u001b[0m\u001b[0;34m\u001b[0m\u001b[0m\n\u001b[0;32m-> 1279\u001b[0;31m         \u001b[0mexpanded_cargs\u001b[0m \u001b[0;34m=\u001b[0m \u001b[0;34m[\u001b[0m\u001b[0mself\u001b[0m\u001b[0;34m.\u001b[0m\u001b[0mcbit_argument_conversion\u001b[0m\u001b[0;34m(\u001b[0m\u001b[0mcarg\u001b[0m\u001b[0;34m)\u001b[0m \u001b[0;32mfor\u001b[0m \u001b[0mcarg\u001b[0m \u001b[0;32min\u001b[0m \u001b[0mcargs\u001b[0m \u001b[0;32mor\u001b[0m \u001b[0;34m[\u001b[0m\u001b[0;34m]\u001b[0m\u001b[0;34m]\u001b[0m\u001b[0;34m\u001b[0m\u001b[0;34m\u001b[0m\u001b[0m\n\u001b[0m\u001b[1;32m   1280\u001b[0m \u001b[0;34m\u001b[0m\u001b[0m\n\u001b[1;32m   1281\u001b[0m         \u001b[0;32mif\u001b[0m \u001b[0mself\u001b[0m\u001b[0;34m.\u001b[0m\u001b[0m_control_flow_scopes\u001b[0m\u001b[0;34m:\u001b[0m\u001b[0;34m\u001b[0m\u001b[0;34m\u001b[0m\u001b[0m\n",
      "\u001b[0;32m~/opt/anaconda3/lib/python3.8/site-packages/qiskit/circuit/quantumcircuit.py\u001b[0m in \u001b[0;36m<listcomp>\u001b[0;34m(.0)\u001b[0m\n\u001b[1;32m   1277\u001b[0m \u001b[0;34m\u001b[0m\u001b[0m\n\u001b[1;32m   1278\u001b[0m         \u001b[0mexpanded_qargs\u001b[0m \u001b[0;34m=\u001b[0m \u001b[0;34m[\u001b[0m\u001b[0mself\u001b[0m\u001b[0;34m.\u001b[0m\u001b[0mqbit_argument_conversion\u001b[0m\u001b[0;34m(\u001b[0m\u001b[0mqarg\u001b[0m\u001b[0;34m)\u001b[0m \u001b[0;32mfor\u001b[0m \u001b[0mqarg\u001b[0m \u001b[0;32min\u001b[0m \u001b[0mqargs\u001b[0m \u001b[0;32mor\u001b[0m \u001b[0;34m[\u001b[0m\u001b[0;34m]\u001b[0m\u001b[0;34m]\u001b[0m\u001b[0;34m\u001b[0m\u001b[0;34m\u001b[0m\u001b[0m\n\u001b[0;32m-> 1279\u001b[0;31m         \u001b[0mexpanded_cargs\u001b[0m \u001b[0;34m=\u001b[0m \u001b[0;34m[\u001b[0m\u001b[0mself\u001b[0m\u001b[0;34m.\u001b[0m\u001b[0mcbit_argument_conversion\u001b[0m\u001b[0;34m(\u001b[0m\u001b[0mcarg\u001b[0m\u001b[0;34m)\u001b[0m \u001b[0;32mfor\u001b[0m \u001b[0mcarg\u001b[0m \u001b[0;32min\u001b[0m \u001b[0mcargs\u001b[0m \u001b[0;32mor\u001b[0m \u001b[0;34m[\u001b[0m\u001b[0;34m]\u001b[0m\u001b[0;34m]\u001b[0m\u001b[0;34m\u001b[0m\u001b[0;34m\u001b[0m\u001b[0m\n\u001b[0m\u001b[1;32m   1280\u001b[0m \u001b[0;34m\u001b[0m\u001b[0m\n\u001b[1;32m   1281\u001b[0m         \u001b[0;32mif\u001b[0m \u001b[0mself\u001b[0m\u001b[0;34m.\u001b[0m\u001b[0m_control_flow_scopes\u001b[0m\u001b[0;34m:\u001b[0m\u001b[0;34m\u001b[0m\u001b[0;34m\u001b[0m\u001b[0m\n",
      "\u001b[0;32m~/opt/anaconda3/lib/python3.8/site-packages/qiskit/circuit/quantumcircuit.py\u001b[0m in \u001b[0;36mcbit_argument_conversion\u001b[0;34m(self, clbit_representation)\u001b[0m\n\u001b[1;32m   1162\u001b[0m             \u001b[0mList\u001b[0m\u001b[0;34m(\u001b[0m\u001b[0mtuple\u001b[0m\u001b[0;34m)\u001b[0m\u001b[0;34m:\u001b[0m \u001b[0mWhere\u001b[0m \u001b[0meach\u001b[0m \u001b[0mtuple\u001b[0m \u001b[0;32mis\u001b[0m \u001b[0ma\u001b[0m \u001b[0mclassical\u001b[0m \u001b[0mbit\u001b[0m\u001b[0;34m.\u001b[0m\u001b[0;34m\u001b[0m\u001b[0;34m\u001b[0m\u001b[0m\n\u001b[1;32m   1163\u001b[0m         \"\"\"\n\u001b[0;32m-> 1164\u001b[0;31m         return _bit_argument_conversion(\n\u001b[0m\u001b[1;32m   1165\u001b[0m             \u001b[0mclbit_representation\u001b[0m\u001b[0;34m,\u001b[0m \u001b[0mself\u001b[0m\u001b[0;34m.\u001b[0m\u001b[0mclbits\u001b[0m\u001b[0;34m,\u001b[0m \u001b[0mself\u001b[0m\u001b[0;34m.\u001b[0m\u001b[0m_clbit_indices\u001b[0m\u001b[0;34m,\u001b[0m \u001b[0mClbit\u001b[0m\u001b[0;34m\u001b[0m\u001b[0;34m\u001b[0m\u001b[0m\n\u001b[1;32m   1166\u001b[0m         )\n",
      "\u001b[0;32m~/opt/anaconda3/lib/python3.8/site-packages/qiskit/circuit/quantumcircuit.py\u001b[0m in \u001b[0;36m_bit_argument_conversion\u001b[0;34m(specifier, bit_sequence, bit_set, type_)\u001b[0m\n\u001b[1;32m   5225\u001b[0m             \u001b[0;32mreturn\u001b[0m \u001b[0;34m[\u001b[0m\u001b[0mbit_sequence\u001b[0m\u001b[0;34m[\u001b[0m\u001b[0mspecifier\u001b[0m\u001b[0;34m]\u001b[0m\u001b[0;34m]\u001b[0m\u001b[0;34m\u001b[0m\u001b[0;34m\u001b[0m\u001b[0m\n\u001b[1;32m   5226\u001b[0m         \u001b[0;32mexcept\u001b[0m \u001b[0mIndexError\u001b[0m \u001b[0;32mas\u001b[0m \u001b[0mex\u001b[0m\u001b[0;34m:\u001b[0m\u001b[0;34m\u001b[0m\u001b[0;34m\u001b[0m\u001b[0m\n\u001b[0;32m-> 5227\u001b[0;31m             raise CircuitError(\n\u001b[0m\u001b[1;32m   5228\u001b[0m                 \u001b[0;34mf\"Index {specifier} out of range for size {len(bit_sequence)}.\"\u001b[0m\u001b[0;34m\u001b[0m\u001b[0;34m\u001b[0m\u001b[0m\n\u001b[1;32m   5229\u001b[0m             ) from ex\n",
      "\u001b[0;31mCircuitError\u001b[0m: 'Index 0 out of range for size 0.'"
     ]
    }
   ],
   "source": [
    "# We need to convert the 4*Nv qubits to Ne qubits circuit. \n",
    "# To do so, measure relevant Ne qubits.\n",
    "# Define the list of measurement circuits\n",
    "measurement_circuits = []\n",
    "print(\"Creating a measurement circuit...\")\n",
    "# Iterate over pairs of nodes (i, j)\n",
    "for i in range(len(A)):\n",
    "    for j in range(i + 1, len(A)):\n",
    "        if A[i][j] == 1:\n",
    "            # Create a new quantum circuit for measurement\n",
    "            measure_circuit = qc.copy()\n",
    "            print(\"Measured...\")\n",
    "            # Measure the qubits corresponding to nodes i and j\n",
    "            measure_circuit.measure(i * 4, i * 4)\n",
    "            measure_circuit.measure(j * 4, j * 4)\n",
    "            # Add the measurement circuit to the list\n",
    "            measurement_circuits.append(measure_circuit)"
   ]
  },
  {
   "cell_type": "code",
   "execution_count": 56,
   "id": "9d424c01",
   "metadata": {},
   "outputs": [
    {
     "name": "stdout",
     "output_type": "stream",
     "text": [
      "Creating Q(G)NN...\n"
     ]
    }
   ],
   "source": [
    "# Prepare data for training (quantum circuits and labels)\n",
    "X = measurement_circuits\n",
    "y = load_raw('event000001000_g000.npz','y')\n",
    "# For now, only look at first 10 edges.\n",
    "Y = y[:10]  # True edge labels of dimension Ne=10\n",
    "Ne = 10\n",
    "# Create the Quantum Neural Network (QNN) classifier\n",
    "qnn = NeuralNetworkBinaryClassifier(\n",
    "    circuit = qc,optimizer=COBYLA(),\n",
    "    quantum_instance = Aer.get_backend('qasm_simulator'),\n",
    "    training_input_size = len(X),\n",
    "    datapoints = len(X))\n",
    "\n",
    "# Callback function to plot the loss\n",
    "def callback_graph(epochs, loss, val_loss):\n",
    "    plt.figure()\n",
    "    plt.plot(epochs, loss, 'r', label='Training Loss')\n",
    "    plt.plot(epochs, val_loss, 'b', label='Validation Loss')\n",
    "    plt.xlabel('Epochs')\n",
    "    plt.ylabel('Loss')\n",
    "    plt.title('Loss Over Epochs')\n",
    "    plt.legend()\n",
    "    plt.show()\n",
    "\n",
    "# Train the QNN with binary cross-entropy loss\n",
    "qnn.fit(X, Y, callback=callback_graph)"
   ]
  }
 ],
 "metadata": {
  "kernelspec": {
   "display_name": "Python 3",
   "language": "python",
   "name": "python3"
  },
  "language_info": {
   "codemirror_mode": {
    "name": "ipython",
    "version": 3
   },
   "file_extension": ".py",
   "mimetype": "text/x-python",
   "name": "python",
   "nbconvert_exporter": "python",
   "pygments_lexer": "ipython3",
   "version": "3.8.8"
  }
 },
 "nbformat": 4,
 "nbformat_minor": 5
}
