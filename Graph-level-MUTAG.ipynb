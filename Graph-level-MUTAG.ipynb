{
 "cells": [
  {
   "cell_type": "code",
   "execution_count": null,
   "id": "5bf0d7e8",
   "metadata": {},
   "outputs": [],
   "source": [
    "import numpy as np\n",
    "import matplotlib.pyplot as plt\n",
    "from qiskit import QuantumCircuit, Aer\n",
    "from qiskit_algorithms.optimizers import COBYLA\n",
    "from qiskit.utils import QuantumInstance\n",
    "from qiskit_machine_learning.algorithms.classifiers import NeuralNetworkClassifier, VQC\n",
    "from qiskit.circuit import ParameterVector"
   ]
  },
  {
   "cell_type": "code",
   "execution_count": 342,
   "id": "793a63b5",
   "metadata": {},
   "outputs": [],
   "source": [
    "import warnings\n",
    "# Suppress SettingWithCopyWarning\n",
    "warnings.filterwarnings('ignore')"
   ]
  },
  {
   "cell_type": "code",
   "execution_count": 15,
   "id": "fd984396",
   "metadata": {},
   "outputs": [],
   "source": [
    "#Load the dataset\n",
    "import pandas as pd\n",
    "# Read the text file\n",
    "with open('Fingerprint_A.txt', 'r') as file:\n",
    "    lines = file.readlines()\n",
    "# Split the lines into separate columns based on comma delimiter\n",
    "data = [line.strip().split(',') for line in lines] \n",
    "edge = pd.DataFrame(data, columns=['node1', 'node2'])\n",
    "#Read the text file\n",
    "graph_ind = pd.read_csv(\"Fingerprint_graph_indicator.txt\",names=['graph'])\n",
    "# Read the text file\n",
    "with open('Fingerprint_node_attributes.txt', 'r') as file:\n",
    "    lines = file.readlines()\n",
    "# Split the lines into separate columns based on comma delimiter\n",
    "data = [line.strip().split(',') for line in lines] \n",
    "node_feat = pd.DataFrame(data, columns=['x', 'y'])"
   ]
  },
  {
   "cell_type": "code",
   "execution_count": 167,
   "id": "7325a510",
   "metadata": {},
   "outputs": [],
   "source": [
    "#Relabel edges\n",
    "edge = edge.astype(int)\n",
    "edge = edge.applymap(lambda x: x + 1)"
   ]
  },
  {
   "cell_type": "code",
   "execution_count": 19,
   "id": "7b8f875d",
   "metadata": {},
   "outputs": [],
   "source": [
    "#Create node_id column for node features and graph indices data set\n",
    "node_feat['node_id']=node_feat.index\n",
    "graph_ind['node_id']=graph_ind.index"
   ]
  },
  {
   "cell_type": "code",
   "execution_count": 25,
   "id": "5b23a52d",
   "metadata": {},
   "outputs": [
    {
     "data": {
      "text/html": [
       "<div>\n",
       "<style scoped>\n",
       "    .dataframe tbody tr th:only-of-type {\n",
       "        vertical-align: middle;\n",
       "    }\n",
       "\n",
       "    .dataframe tbody tr th {\n",
       "        vertical-align: top;\n",
       "    }\n",
       "\n",
       "    .dataframe thead th {\n",
       "        text-align: right;\n",
       "    }\n",
       "</style>\n",
       "<table border=\"1\" class=\"dataframe\">\n",
       "  <thead>\n",
       "    <tr style=\"text-align: right;\">\n",
       "      <th></th>\n",
       "      <th>graph</th>\n",
       "      <th>node_id</th>\n",
       "    </tr>\n",
       "  </thead>\n",
       "  <tbody>\n",
       "    <tr>\n",
       "      <th>0</th>\n",
       "      <td>1</td>\n",
       "      <td>0</td>\n",
       "    </tr>\n",
       "    <tr>\n",
       "      <th>1</th>\n",
       "      <td>1</td>\n",
       "      <td>1</td>\n",
       "    </tr>\n",
       "    <tr>\n",
       "      <th>2</th>\n",
       "      <td>2</td>\n",
       "      <td>2</td>\n",
       "    </tr>\n",
       "  </tbody>\n",
       "</table>\n",
       "</div>"
      ],
      "text/plain": [
       "   graph  node_id\n",
       "0      1        0\n",
       "1      1        1\n",
       "2      2        2"
      ]
     },
     "execution_count": 25,
     "metadata": {},
     "output_type": "execute_result"
    }
   ],
   "source": [
    "graph_ind.head(3)"
   ]
  },
  {
   "cell_type": "code",
   "execution_count": 27,
   "id": "34a0e170",
   "metadata": {},
   "outputs": [
    {
     "data": {
      "text/html": [
       "<div>\n",
       "<style scoped>\n",
       "    .dataframe tbody tr th:only-of-type {\n",
       "        vertical-align: middle;\n",
       "    }\n",
       "\n",
       "    .dataframe tbody tr th {\n",
       "        vertical-align: top;\n",
       "    }\n",
       "\n",
       "    .dataframe thead th {\n",
       "        text-align: right;\n",
       "    }\n",
       "</style>\n",
       "<table border=\"1\" class=\"dataframe\">\n",
       "  <thead>\n",
       "    <tr style=\"text-align: right;\">\n",
       "      <th></th>\n",
       "      <th>graph</th>\n",
       "      <th>topology</th>\n",
       "    </tr>\n",
       "  </thead>\n",
       "  <tbody>\n",
       "    <tr>\n",
       "      <th>0</th>\n",
       "      <td>1</td>\n",
       "      <td>[(0, [124.0,  121.0]), (1, [119.0,  143.0])]</td>\n",
       "    </tr>\n",
       "    <tr>\n",
       "      <th>1</th>\n",
       "      <td>2</td>\n",
       "      <td>[(2, [125.0,  130.0]), (3, [33.0,  155.0]), (4...</td>\n",
       "    </tr>\n",
       "    <tr>\n",
       "      <th>2</th>\n",
       "      <td>3</td>\n",
       "      <td>[(14, [124.0,  121.0]), (15, [119.0,  143.0])]</td>\n",
       "    </tr>\n",
       "  </tbody>\n",
       "</table>\n",
       "</div>"
      ],
      "text/plain": [
       "   graph                                           topology\n",
       "0      1       [(0, [124.0,  121.0]), (1, [119.0,  143.0])]\n",
       "1      2  [(2, [125.0,  130.0]), (3, [33.0,  155.0]), (4...\n",
       "2      3     [(14, [124.0,  121.0]), (15, [119.0,  143.0])]"
      ]
     },
     "execution_count": 27,
     "metadata": {},
     "output_type": "execute_result"
    }
   ],
   "source": [
    "# Merge graph_ind and node_feat data frames\n",
    "combined_df = pd.merge(graph_ind, node_feat, on='node_id')\n",
    "# Group by graph_id and collect node features for each graph\n",
    "topology_df = combined_df.groupby('graph').apply(lambda x: sorted(list(zip(x['node_id'], x[['x', 'y']].values)))).reset_index(name='topology')\n",
    "topology_df.head(3)"
   ]
  },
  {
   "cell_type": "code",
   "execution_count": 205,
   "id": "3579ed1b",
   "metadata": {},
   "outputs": [],
   "source": [
    "import numpy as np\n",
    "# Function to generate adjacency matrix for a given topology\n",
    "def generate_adjacency_matrix(topology):\n",
    "    num_nodes = len(topology[0])\n",
    "    adj_matrix = np.zeros((num_nodes, num_nodes), dtype=int)\n",
    "    for i in range(num_nodes):\n",
    "        start_node_id, start_node_feat = topology[0][i][0], list(topology[0][i][1])\n",
    "        for j in range(i+1, num_nodes):\n",
    "            end_node_id, end_node_feat = topology[0][j][0], list(topology[0][j][1])\n",
    "            if (start_node_id,end_node_id) in edge.values or (end_node_id, start_node_id) in edge.values:\n",
    "                adj_matrix[i][j] = adj_matrix[j][i] = 1\n",
    "    return adj_matrix"
   ]
  },
  {
   "cell_type": "code",
   "execution_count": 250,
   "id": "aacf243d",
   "metadata": {},
   "outputs": [],
   "source": [
    "#There are too many graphs, so sample a subset.\n",
    "sampled_topology_df = topology_df[['topology']].sample(frac=0.5).reset_index(drop=True)  # Adjust the fraction as needed"
   ]
  },
  {
   "cell_type": "code",
   "execution_count": 251,
   "id": "4b55eb12",
   "metadata": {},
   "outputs": [
    {
     "data": {
      "text/html": [
       "<div>\n",
       "<style scoped>\n",
       "    .dataframe tbody tr th:only-of-type {\n",
       "        vertical-align: middle;\n",
       "    }\n",
       "\n",
       "    .dataframe tbody tr th {\n",
       "        vertical-align: top;\n",
       "    }\n",
       "\n",
       "    .dataframe thead th {\n",
       "        text-align: right;\n",
       "    }\n",
       "</style>\n",
       "<table border=\"1\" class=\"dataframe\">\n",
       "  <thead>\n",
       "    <tr style=\"text-align: right;\">\n",
       "      <th></th>\n",
       "      <th>topology</th>\n",
       "    </tr>\n",
       "  </thead>\n",
       "  <tbody>\n",
       "    <tr>\n",
       "      <th>0</th>\n",
       "      <td>[(13139, [128.0,  99.0]), (13140, [98.0,  141....</td>\n",
       "    </tr>\n",
       "    <tr>\n",
       "      <th>1</th>\n",
       "      <td>[(11636, [138.0,  81.0]), (11637, [146.0,  106...</td>\n",
       "    </tr>\n",
       "    <tr>\n",
       "      <th>2</th>\n",
       "      <td>[(4258, [146.0,  137.0]), (4259, [201.0,  182....</td>\n",
       "    </tr>\n",
       "  </tbody>\n",
       "</table>\n",
       "</div>"
      ],
      "text/plain": [
       "                                            topology\n",
       "0  [(13139, [128.0,  99.0]), (13140, [98.0,  141....\n",
       "1  [(11636, [138.0,  81.0]), (11637, [146.0,  106...\n",
       "2  [(4258, [146.0,  137.0]), (4259, [201.0,  182...."
      ]
     },
     "execution_count": 251,
     "metadata": {},
     "output_type": "execute_result"
    }
   ],
   "source": [
    "sampled_topology_df.head(3)"
   ]
  },
  {
   "cell_type": "code",
   "execution_count": 252,
   "id": "248e2e58",
   "metadata": {},
   "outputs": [],
   "source": [
    "#Want to add adjacency matrices for each of the graph topology\n",
    "sampled_topology_df['adj']=sampled_topology_df[['topology']].apply(generate_adjacency_matrix, axis=1)"
   ]
  },
  {
   "cell_type": "code",
   "execution_count": 253,
   "id": "b4538ee0",
   "metadata": {},
   "outputs": [
    {
     "data": {
      "text/html": [
       "<div>\n",
       "<style scoped>\n",
       "    .dataframe tbody tr th:only-of-type {\n",
       "        vertical-align: middle;\n",
       "    }\n",
       "\n",
       "    .dataframe tbody tr th {\n",
       "        vertical-align: top;\n",
       "    }\n",
       "\n",
       "    .dataframe thead th {\n",
       "        text-align: right;\n",
       "    }\n",
       "</style>\n",
       "<table border=\"1\" class=\"dataframe\">\n",
       "  <thead>\n",
       "    <tr style=\"text-align: right;\">\n",
       "      <th></th>\n",
       "      <th>topology</th>\n",
       "      <th>adj</th>\n",
       "    </tr>\n",
       "  </thead>\n",
       "  <tbody>\n",
       "    <tr>\n",
       "      <th>0</th>\n",
       "      <td>[(13139, [128.0,  99.0]), (13140, [98.0,  141....</td>\n",
       "      <td>[[0, 1, 1, 1], [1, 0, 1, 1], [1, 1, 0, 1], [1,...</td>\n",
       "    </tr>\n",
       "    <tr>\n",
       "      <th>1</th>\n",
       "      <td>[(11636, [138.0,  81.0]), (11637, [146.0,  106...</td>\n",
       "      <td>[[0, 1, 1, 1, 1, 1, 1, 1, 1, 1, 1, 1, 1, 1, 1]...</td>\n",
       "    </tr>\n",
       "    <tr>\n",
       "      <th>2</th>\n",
       "      <td>[(4258, [146.0,  137.0]), (4259, [201.0,  182....</td>\n",
       "      <td>[[0, 1, 1, 1, 1, 1], [1, 0, 1, 1, 1, 1], [1, 1...</td>\n",
       "    </tr>\n",
       "  </tbody>\n",
       "</table>\n",
       "</div>"
      ],
      "text/plain": [
       "                                            topology  \\\n",
       "0  [(13139, [128.0,  99.0]), (13140, [98.0,  141....   \n",
       "1  [(11636, [138.0,  81.0]), (11637, [146.0,  106...   \n",
       "2  [(4258, [146.0,  137.0]), (4259, [201.0,  182....   \n",
       "\n",
       "                                                 adj  \n",
       "0  [[0, 1, 1, 1], [1, 0, 1, 1], [1, 1, 0, 1], [1,...  \n",
       "1  [[0, 1, 1, 1, 1, 1, 1, 1, 1, 1, 1, 1, 1, 1, 1]...  \n",
       "2  [[0, 1, 1, 1, 1, 1], [1, 0, 1, 1, 1, 1], [1, 1...  "
      ]
     },
     "execution_count": 253,
     "metadata": {},
     "output_type": "execute_result"
    }
   ],
   "source": [
    "sampled_topology_df.head(3)"
   ]
  },
  {
   "cell_type": "code",
   "execution_count": 343,
   "id": "9f7d0592",
   "metadata": {},
   "outputs": [],
   "source": [
    "#Focus on 2x2 matrices\n",
    "sampled_topology_df_filtered_2b2 = sampled_topology_df[sampled_topology_df['adj'].apply(lambda x: len(x) == 2)]\n",
    "# Get the two most frequent topologies\n",
    "sampled_topology_df_filtered_2b2['adj_tuple'] = sampled_topology_df_filtered_2b2['adj'].apply(lambda x: tuple(map(tuple, x)))\n",
    "top2_freq_topologies_2b2 = sampled_topology_df_filtered_2b2['adj_tuple'].value_counts().nlargest(2).index.tolist()"
   ]
  },
  {
   "cell_type": "code",
   "execution_count": 255,
   "id": "b9600f9f",
   "metadata": {},
   "outputs": [
    {
     "data": {
      "text/html": [
       "<div>\n",
       "<style scoped>\n",
       "    .dataframe tbody tr th:only-of-type {\n",
       "        vertical-align: middle;\n",
       "    }\n",
       "\n",
       "    .dataframe tbody tr th {\n",
       "        vertical-align: top;\n",
       "    }\n",
       "\n",
       "    .dataframe thead th {\n",
       "        text-align: right;\n",
       "    }\n",
       "</style>\n",
       "<table border=\"1\" class=\"dataframe\">\n",
       "  <thead>\n",
       "    <tr style=\"text-align: right;\">\n",
       "      <th></th>\n",
       "      <th>topology</th>\n",
       "      <th>adj</th>\n",
       "      <th>adj_tuple</th>\n",
       "    </tr>\n",
       "  </thead>\n",
       "  <tbody>\n",
       "    <tr>\n",
       "      <th>3</th>\n",
       "      <td>[(10654, [173.0,  171.0]), (10655, [168.0,  18...</td>\n",
       "      <td>[[0, 1], [1, 0]]</td>\n",
       "      <td>((0, 1), (1, 0))</td>\n",
       "    </tr>\n",
       "    <tr>\n",
       "      <th>7</th>\n",
       "      <td>[(8323, [120.0,  133.0]), (8324, [111.0,  146....</td>\n",
       "      <td>[[0, 1], [1, 0]]</td>\n",
       "      <td>((0, 1), (1, 0))</td>\n",
       "    </tr>\n",
       "    <tr>\n",
       "      <th>13</th>\n",
       "      <td>[(9399, [128.0,  123.0]), (9400, [138.0,  144....</td>\n",
       "      <td>[[0, 1], [1, 0]]</td>\n",
       "      <td>((0, 1), (1, 0))</td>\n",
       "    </tr>\n",
       "  </tbody>\n",
       "</table>\n",
       "</div>"
      ],
      "text/plain": [
       "                                             topology               adj  \\\n",
       "3   [(10654, [173.0,  171.0]), (10655, [168.0,  18...  [[0, 1], [1, 0]]   \n",
       "7   [(8323, [120.0,  133.0]), (8324, [111.0,  146....  [[0, 1], [1, 0]]   \n",
       "13  [(9399, [128.0,  123.0]), (9400, [138.0,  144....  [[0, 1], [1, 0]]   \n",
       "\n",
       "           adj_tuple  \n",
       "3   ((0, 1), (1, 0))  \n",
       "7   ((0, 1), (1, 0))  \n",
       "13  ((0, 1), (1, 0))  "
      ]
     },
     "execution_count": 255,
     "metadata": {},
     "output_type": "execute_result"
    }
   ],
   "source": [
    "sampled_topology_df_filtered_2b2.head(3)"
   ]
  },
  {
   "cell_type": "code",
   "execution_count": 256,
   "id": "b83711a8",
   "metadata": {},
   "outputs": [
    {
     "data": {
      "text/plain": [
       "[((0, 1), (1, 0)), ((0, 0), (0, 0))]"
      ]
     },
     "execution_count": 256,
     "metadata": {},
     "output_type": "execute_result"
    }
   ],
   "source": [
    "top2_freq_topologies_2b2"
   ]
  },
  {
   "cell_type": "code",
   "execution_count": 344,
   "id": "8634c9e3",
   "metadata": {},
   "outputs": [
    {
     "data": {
      "text/html": [
       "<div>\n",
       "<style scoped>\n",
       "    .dataframe tbody tr th:only-of-type {\n",
       "        vertical-align: middle;\n",
       "    }\n",
       "\n",
       "    .dataframe tbody tr th {\n",
       "        vertical-align: top;\n",
       "    }\n",
       "\n",
       "    .dataframe thead th {\n",
       "        text-align: right;\n",
       "    }\n",
       "</style>\n",
       "<table border=\"1\" class=\"dataframe\">\n",
       "  <thead>\n",
       "    <tr style=\"text-align: right;\">\n",
       "      <th></th>\n",
       "      <th>topology</th>\n",
       "      <th>adj</th>\n",
       "      <th>adj_tuple</th>\n",
       "    </tr>\n",
       "  </thead>\n",
       "  <tbody>\n",
       "    <tr>\n",
       "      <th>12</th>\n",
       "      <td>[(10743, [149.0,  151.0]), (10744, [179.0,  18...</td>\n",
       "      <td>[[0, 1, 1], [1, 0, 1], [1, 1, 0]]</td>\n",
       "      <td>((0, 1, 1), (1, 0, 1), (1, 1, 0))</td>\n",
       "    </tr>\n",
       "    <tr>\n",
       "      <th>15</th>\n",
       "      <td>[(12634, [133.0,  135.0]), (12635, [144.0,  16...</td>\n",
       "      <td>[[0, 1, 1], [1, 0, 1], [1, 1, 0]]</td>\n",
       "      <td>((0, 1, 1), (1, 0, 1), (1, 1, 0))</td>\n",
       "    </tr>\n",
       "    <tr>\n",
       "      <th>36</th>\n",
       "      <td>[(6585, [130.0,  130.0]), (6586, [147.0,  153....</td>\n",
       "      <td>[[0, 1, 1], [1, 0, 1], [1, 1, 0]]</td>\n",
       "      <td>((0, 1, 1), (1, 0, 1), (1, 1, 0))</td>\n",
       "    </tr>\n",
       "  </tbody>\n",
       "</table>\n",
       "</div>"
      ],
      "text/plain": [
       "                                             topology  \\\n",
       "12  [(10743, [149.0,  151.0]), (10744, [179.0,  18...   \n",
       "15  [(12634, [133.0,  135.0]), (12635, [144.0,  16...   \n",
       "36  [(6585, [130.0,  130.0]), (6586, [147.0,  153....   \n",
       "\n",
       "                                  adj                          adj_tuple  \n",
       "12  [[0, 1, 1], [1, 0, 1], [1, 1, 0]]  ((0, 1, 1), (1, 0, 1), (1, 1, 0))  \n",
       "15  [[0, 1, 1], [1, 0, 1], [1, 1, 0]]  ((0, 1, 1), (1, 0, 1), (1, 1, 0))  \n",
       "36  [[0, 1, 1], [1, 0, 1], [1, 1, 0]]  ((0, 1, 1), (1, 0, 1), (1, 1, 0))  "
      ]
     },
     "execution_count": 344,
     "metadata": {},
     "output_type": "execute_result"
    }
   ],
   "source": [
    "#Focus on 2x2 matrices\n",
    "sampled_topology_df_filtered_3b3 = sampled_topology_df[sampled_topology_df['adj'].apply(lambda x: len(x) == 3)]\n",
    "# Get the two most frequent topologies\n",
    "sampled_topology_df_filtered_3b3['adj_tuple'] = sampled_topology_df_filtered_3b3['adj'].apply(lambda x: tuple(map(tuple, x)))\n",
    "top2_freq_topologies_3b3 = sampled_topology_df_filtered_3b3['adj_tuple'].value_counts().nlargest(2).index.tolist()\n",
    "sampled_topology_df_filtered_3b3.head(3)"
   ]
  },
  {
   "cell_type": "code",
   "execution_count": 258,
   "id": "dee8ed45",
   "metadata": {},
   "outputs": [
    {
     "data": {
      "text/plain": [
       "[((0, 1, 1), (1, 0, 1), (1, 1, 0))]"
      ]
     },
     "execution_count": 258,
     "metadata": {},
     "output_type": "execute_result"
    }
   ],
   "source": [
    "top2_freq_topologies_3b3"
   ]
  },
  {
   "cell_type": "code",
   "execution_count": 345,
   "id": "fa04869f",
   "metadata": {},
   "outputs": [
    {
     "data": {
      "text/html": [
       "<div>\n",
       "<style scoped>\n",
       "    .dataframe tbody tr th:only-of-type {\n",
       "        vertical-align: middle;\n",
       "    }\n",
       "\n",
       "    .dataframe tbody tr th {\n",
       "        vertical-align: top;\n",
       "    }\n",
       "\n",
       "    .dataframe thead th {\n",
       "        text-align: right;\n",
       "    }\n",
       "</style>\n",
       "<table border=\"1\" class=\"dataframe\">\n",
       "  <thead>\n",
       "    <tr style=\"text-align: right;\">\n",
       "      <th></th>\n",
       "      <th>topology</th>\n",
       "      <th>adj</th>\n",
       "      <th>adj_tuple</th>\n",
       "    </tr>\n",
       "  </thead>\n",
       "  <tbody>\n",
       "    <tr>\n",
       "      <th>0</th>\n",
       "      <td>[(13139, [128.0,  99.0]), (13140, [98.0,  141....</td>\n",
       "      <td>[[0, 1, 1, 1], [1, 0, 1, 1], [1, 1, 0, 1], [1,...</td>\n",
       "      <td>((0, 1, 1, 1), (1, 0, 1, 1), (1, 1, 0, 1), (1,...</td>\n",
       "    </tr>\n",
       "    <tr>\n",
       "      <th>10</th>\n",
       "      <td>[(14380, [148.0,  98.0]), (14381, [145.0,  168...</td>\n",
       "      <td>[[0, 1, 1, 1], [1, 0, 1, 1], [1, 1, 0, 1], [1,...</td>\n",
       "      <td>((0, 1, 1, 1), (1, 0, 1, 1), (1, 1, 0, 1), (1,...</td>\n",
       "    </tr>\n",
       "    <tr>\n",
       "      <th>17</th>\n",
       "      <td>[(3274, [144.0,  110.0]), (3275, [142.0,  171....</td>\n",
       "      <td>[[0, 1, 1, 1], [1, 0, 1, 1], [1, 1, 0, 1], [1,...</td>\n",
       "      <td>((0, 1, 1, 1), (1, 0, 1, 1), (1, 1, 0, 1), (1,...</td>\n",
       "    </tr>\n",
       "  </tbody>\n",
       "</table>\n",
       "</div>"
      ],
      "text/plain": [
       "                                             topology  \\\n",
       "0   [(13139, [128.0,  99.0]), (13140, [98.0,  141....   \n",
       "10  [(14380, [148.0,  98.0]), (14381, [145.0,  168...   \n",
       "17  [(3274, [144.0,  110.0]), (3275, [142.0,  171....   \n",
       "\n",
       "                                                  adj  \\\n",
       "0   [[0, 1, 1, 1], [1, 0, 1, 1], [1, 1, 0, 1], [1,...   \n",
       "10  [[0, 1, 1, 1], [1, 0, 1, 1], [1, 1, 0, 1], [1,...   \n",
       "17  [[0, 1, 1, 1], [1, 0, 1, 1], [1, 1, 0, 1], [1,...   \n",
       "\n",
       "                                            adj_tuple  \n",
       "0   ((0, 1, 1, 1), (1, 0, 1, 1), (1, 1, 0, 1), (1,...  \n",
       "10  ((0, 1, 1, 1), (1, 0, 1, 1), (1, 1, 0, 1), (1,...  \n",
       "17  ((0, 1, 1, 1), (1, 0, 1, 1), (1, 1, 0, 1), (1,...  "
      ]
     },
     "execution_count": 345,
     "metadata": {},
     "output_type": "execute_result"
    }
   ],
   "source": [
    "#Focus on 4x4 matrices\n",
    "sampled_topology_df_filtered_4b4 = sampled_topology_df[sampled_topology_df['adj'].apply(lambda x: len(x) == 4)]\n",
    "# Get the two most frequent topologies\n",
    "sampled_topology_df_filtered_4b4['adj_tuple'] = sampled_topology_df_filtered_4b4['adj'].apply(lambda x: tuple(map(tuple, x)))\n",
    "top2_freq_topologies_4b4 = sampled_topology_df_filtered_4b4['adj_tuple'].value_counts().nlargest(2).index.tolist()\n",
    "sampled_topology_df_filtered_4b4.head(3)"
   ]
  },
  {
   "cell_type": "code",
   "execution_count": 268,
   "id": "44075c98",
   "metadata": {},
   "outputs": [
    {
     "data": {
      "text/plain": [
       "[((0, 1, 1, 1), (1, 0, 1, 1), (1, 1, 0, 1), (1, 1, 1, 0))]"
      ]
     },
     "execution_count": 268,
     "metadata": {},
     "output_type": "execute_result"
    }
   ],
   "source": [
    "top2_freq_topologies_4b4"
   ]
  },
  {
   "cell_type": "code",
   "execution_count": null,
   "id": "af3455f5",
   "metadata": {},
   "outputs": [],
   "source": [
    "top_2d=sampled_topology_df_filtered_2b2[['topology']]\n",
    "top_3d=sampled_topology_df_filtered_3b3[['topology']]\n",
    "top_4d=sampled_topology_df_filtered_4b4[['topology']]"
   ]
  },
  {
   "cell_type": "code",
   "execution_count": 269,
   "id": "a0779e35",
   "metadata": {},
   "outputs": [
    {
     "data": {
      "text/html": [
       "<div>\n",
       "<style scoped>\n",
       "    .dataframe tbody tr th:only-of-type {\n",
       "        vertical-align: middle;\n",
       "    }\n",
       "\n",
       "    .dataframe tbody tr th {\n",
       "        vertical-align: top;\n",
       "    }\n",
       "\n",
       "    .dataframe thead th {\n",
       "        text-align: right;\n",
       "    }\n",
       "</style>\n",
       "<table border=\"1\" class=\"dataframe\">\n",
       "  <thead>\n",
       "    <tr style=\"text-align: right;\">\n",
       "      <th></th>\n",
       "      <th>topology</th>\n",
       "    </tr>\n",
       "  </thead>\n",
       "  <tbody>\n",
       "    <tr>\n",
       "      <th>3</th>\n",
       "      <td>[(10654, [173.0,  171.0]), (10655, [168.0,  18...</td>\n",
       "    </tr>\n",
       "    <tr>\n",
       "      <th>7</th>\n",
       "      <td>[(8323, [120.0,  133.0]), (8324, [111.0,  146....</td>\n",
       "    </tr>\n",
       "  </tbody>\n",
       "</table>\n",
       "</div>"
      ],
      "text/plain": [
       "                                            topology\n",
       "3  [(10654, [173.0,  171.0]), (10655, [168.0,  18...\n",
       "7  [(8323, [120.0,  133.0]), (8324, [111.0,  146...."
      ]
     },
     "execution_count": 269,
     "metadata": {},
     "output_type": "execute_result"
    }
   ],
   "source": [
    "top_2d.head(2)"
   ]
  },
  {
   "cell_type": "code",
   "execution_count": 335,
   "id": "27c768fe",
   "metadata": {},
   "outputs": [],
   "source": [
    "#Now starts QC part. For different dimensions, \n",
    "#Modify A(Line3), n_samples(Line11), Xs(Line23, 24)\n",
    "A=[[0,0],[0,0]]\n",
    "#A=[[0, 1, 1, 1], [1, 0, 1, 1], [1, 1, 0, 1], [1, 1, 1, 0]]\n",
    "# Create a quantum circuit with Nv qubits\n",
    "import pennylane as qml\n",
    "from qiskit.circuit import Parameter\n",
    "#Number of nodes\n",
    "Nv = len(A)\n",
    "#Number of training samples\n",
    "n_samples=len(sampled_topology_df_filtered_2b2)\n",
    "#Number of features\n",
    "n_features=2\n",
    "#Number of qubits\n",
    "num_qubits = Nv * n_features  \n",
    "# Define a list of trainable parameters for the entanglement\n",
    "num_params = len(A)  # Number of trainable parameters for the entanglement\n",
    "ansatz = np.random.random(size=(num_params))\n",
    "#Extract 2d features from 'topology' column\n",
    "def extract_features(row):\n",
    "    feature_vectors = [feat for _, feat in row[0]]\n",
    "    return np.array(feature_vectors)\n",
    "# Apply the function to each row of the DataFrame and convert the result into a numpy array\n",
    "Xs = np.array(top_2d.apply(extract_features, axis=1).tolist())\n",
    "Xs = Xs.reshape(Xs.shape[0], -1).astype(float)"
   ]
  },
  {
   "cell_type": "code",
   "execution_count": 336,
   "id": "873090ec",
   "metadata": {},
   "outputs": [
    {
     "data": {
      "image/png": "[encoded data removed]",
      "text/plain": [
       "<Figure size 600x500 with 1 Axes>"
      ]
     },
     "metadata": {},
     "output_type": "display_data"
    }
   ],
   "source": [
    "import matplotlib.pyplot as plt\n",
    "#For QC display\n",
    "def quantum_circuit(X,ansatz):\n",
    "        for i in range(Nv):\n",
    "            for j in range(n_features):\n",
    "                if j==0:\n",
    "                    qml.RX(X[i*n_features+j], wires = i * n_features + j)\n",
    "                elif j==1:\n",
    "                    qml.RY(X[i*n_features+j], wires = i * n_features + j)\n",
    "            #Entangle 2 features\n",
    "            qml.CNOT(wires = [i * n_features, i *n_features + 1])\n",
    "        # Apply trainable entanglement gates based on adjacency matrix A\n",
    "        for i in range(len(A)):\n",
    "            qml.RY(ansatz[i], wires = i * n_features)\n",
    "        for i in range(len(A)):\n",
    "            for j in range(i + 1, len(A)):\n",
    "                if A[i][j] == 1:\n",
    "                    qml.CNOT(wires = [i * n_features, j * n_features])\n",
    "        if Nv==2:\n",
    "            return qml.sample(qml.PauliZ(0)),qml.sample(qml.PauliZ(n_features))\n",
    "        elif Nv==3:\n",
    "            return qml.sample(qml.PauliZ(0)),qml.sample(qml.PauliZ(n_features)),qml.sample(qml.PauliZ(2*n_features))\n",
    "        else:\n",
    "            return qml.sample(qml.PauliZ(0)),qml.sample(qml.PauliZ(n_features)),qml.sample(qml.PauliZ(2*n_features)),qml.sample(qml.PauliZ(3*n_features))\n",
    "\n",
    "dev = qml.device(\"default.qubit\", wires=n_features*Nv)\n",
    "qnode = qml.QNode(quantum_circuit, dev)\n",
    "qml.draw_mpl(qnode, decimals=1, style=\"sketch\")(Xs[0],ansatz)\n",
    "plt.show()"
   ]
  },
  {
   "cell_type": "code",
   "execution_count": 337,
   "id": "61dd90c2",
   "metadata": {},
   "outputs": [],
   "source": [
    "# Initialize a measurement quantum circuit\n",
    "def circuit(X, ansatz):\n",
    "    dev = qml.device('default.qubit', wires=Nv*n_features, shots=100)\n",
    "    @qml.qnode(dev)\n",
    "    def quantum_circuit(X,ansatz):\n",
    "        for i in range(Nv):\n",
    "            for j in range(n_features):\n",
    "                if j==0:\n",
    "                    qml.RX(X[i*n_features+j], wires = i * n_features + j)\n",
    "                elif j==1:\n",
    "                    qml.RY(X[i*n_features+j], wires = i * n_features + j)\n",
    "        #Entangle 2 features\n",
    "        qml.CNOT(wires = [i * n_features, i * n_features + 1])\n",
    "        # Apply trainable entanglement gates based on adjacency matrix A\n",
    "        for i in range(len(A)):\n",
    "            qml.RY(ansatz[i], wires = i * n_features)\n",
    "        for i in range(len(A)):\n",
    "            for j in range(i + 1, len(A)):\n",
    "                if A[i][j] == 1:\n",
    "                    # Use trainable parameters for entanglement angles\n",
    "                    qml.CNOT(wires = [i * n_features, j * n_features])\n",
    "        if Nv==2:\n",
    "            return qml.sample(qml.PauliZ(0)),qml.sample(qml.PauliZ(n_features))\n",
    "        elif Nv==3:\n",
    "            return qml.sample(qml.PauliZ(0)),qml.sample(qml.PauliZ(n_features)),qml.sample(qml.PauliZ(2*n_features))\n",
    "        else:\n",
    "            return qml.sample(qml.PauliZ(0)),qml.sample(qml.PauliZ(n_features)),qml.sample(qml.PauliZ(2*n_features)),qml.sample(qml.PauliZ(3*n_features))\n",
    "\n",
    "    x = quantum_circuit(X, ansatz)\n",
    "    y = [[x[j][i] for j in range(Nv)] for i in range(len(x[0]))]\n",
    "    return y"
   ]
  },
  {
   "cell_type": "code",
   "execution_count": 338,
   "id": "4066d7dd",
   "metadata": {},
   "outputs": [],
   "source": [
    "#Measure with the fixed parameters\n",
    "dev = qml.device('default.qubit', wires=Nv*n_features, shots=100)\n",
    "@qml.qnode(dev)\n",
    "def measure(X,ansatz):\n",
    "    x = quantum_circuit(X, ansatz)\n",
    "    return x\n",
    "def transform(x):\n",
    "    y = [[x[j][i] for j in range(Nv)] for i in range(100)]\n",
    "    return y\n",
    "def minus_to_zero(y):\n",
    "    for j in range(len(y)):\n",
    "        for i in range(Nv):\n",
    "            if y[j][i]<0:\n",
    "                y[j][i]=0\n",
    "    return y\n",
    "X=Xs[0]\n",
    "result=minus_to_zero(transform(measure(X,ansatz)))"
   ]
  },
  {
   "cell_type": "code",
   "execution_count": 339,
   "id": "b967d0e7",
   "metadata": {},
   "outputs": [],
   "source": [
    "#Collect measurement results from 100 samples\n",
    "results=[]\n",
    "for X in Xs:\n",
    "    result=minus_to_zero(transform(measure(X,ansatz)))\n",
    "    results.extend(result)"
   ]
  },
  {
   "cell_type": "code",
   "execution_count": 340,
   "id": "d60d9635",
   "metadata": {},
   "outputs": [],
   "source": [
    "#Plotting tool\n",
    "def plot_result(measurements,tf):\n",
    "    # Convert each sublist in y to a binary string and create a list of binary strings\n",
    "    binary_strings = [''.join(map(str, sublist)) for sublist in result]\n",
    "    unique_binary_strings, counts = np.unique(binary_strings, return_counts=True)\n",
    "    # Plotting the histogram\n",
    "    plt.bar(unique_binary_strings, counts, edgecolor='black')\n",
    "    # Adding labels and title\n",
    "    plt.xlabel('Results')\n",
    "    plt.ylabel('Frequency')\n",
    "    if tf=='T':\n",
    "        plt.title(str(n_features)+'-qubits measurement for true '\n",
    "                  +str(n_features)+'-nodes graph')\n",
    "    else:\n",
    "        plt.title(str(n_features)+'-qubits measurement for fake '\n",
    "                  +str(n_features)+'-nodes graph')\n",
    "    # Display the plot\n",
    "    plt.show()"
   ]
  },
  {
   "cell_type": "code",
   "execution_count": 299,
   "id": "c6a9d370",
   "metadata": {},
   "outputs": [
    {
     "data": {
      "image/png": "[encoded data removed]",
      "text/plain": [
       "<Figure size 640x480 with 1 Axes>"
      ]
     },
     "metadata": {},
     "output_type": "display_data"
    }
   ],
   "source": [
    "#Show results for the 2-node.\n",
    "plot_result(results,'T')"
   ]
  },
  {
   "cell_type": "code",
   "execution_count": 341,
   "id": "0601b78c",
   "metadata": {},
   "outputs": [
    {
     "data": {
      "image/png": "[encoded data removed]",
      "text/plain": [
       "<Figure size 640x480 with 1 Axes>"
      ]
     },
     "metadata": {},
     "output_type": "display_data"
    }
   ],
   "source": [
    "#Show results for the 2-node with A=[[0,0],[0,0]].\n",
    "plot_result(results,'T')"
   ]
  },
  {
   "cell_type": "code",
   "execution_count": 334,
   "id": "128435c8",
   "metadata": {},
   "outputs": [
    {
     "data": {
      "image/png": "[encoded data removed]",
      "text/plain": [
       "<Figure size 640x480 with 1 Axes>"
      ]
     },
     "metadata": {},
     "output_type": "display_data"
    }
   ],
   "source": [
    "#Show results for the 4-nodes.\n",
    "plot_result(results,'T')"
   ]
  }
 ],
 "metadata": {
  "kernelspec": {
   "display_name": "Python 3",
   "language": "python",
   "name": "python3"
  },
  "language_info": {
   "codemirror_mode": {
    "name": "ipython",
    "version": 3
   },
   "file_extension": ".py",
   "mimetype": "text/x-python",
   "name": "python",
   "nbconvert_exporter": "python",
   "pygments_lexer": "ipython3",
   "version": "3.8.8"
  }
 },
 "nbformat": 4,
 "nbformat_minor": 5
}
