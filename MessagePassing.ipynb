{
 "cells": [
  {
   "cell_type": "code",
   "execution_count": 1,
   "id": "b20826a8",
   "metadata": {},
   "outputs": [
    {
     "name": "stdout",
     "output_type": "stream",
     "text": [
      "features data loaded...\n",
      "edge data loaded...\n"
     ]
    }
   ],
   "source": [
    "# Prepare graph data...\n",
    "import numpy as np\n",
    "import matplotlib.pyplot as plt\n",
    "import os\n",
    "from collections import namedtuple\n",
    "Graph = namedtuple('Graph', ['X', 'Ri', 'Ro', 'y'])\n",
    "class GraphDataset():\n",
    "    def __init__(self, input_dir, n_samples=None):\n",
    "        input_dir = os.path.expandvars(input_dir)\n",
    "        filenames = [os.path.join(input_dir, f) for f in os.listdir(input_dir)\n",
    "                     if f.startswith('event') and f.endswith('.npz')]\n",
    "        self.filenames = (\n",
    "            filenames[:n_samples] if n_samples is not None else filenames)\n",
    "\n",
    "    def __getitem__(self, index):\n",
    "        return load_graph(self.filenames[index])\n",
    "\n",
    "    def __len__(self):\n",
    "        return len(self.filenames)\n",
    "def get_dataset(input_dir,n_files):\n",
    "    return GraphDataset(input_dir, n_files)\n",
    "def load_graph(filename):\n",
    "    graph_dir = os.path.join(os.getcwd(), 'graphs')\n",
    "    # Construct the full path to the specified file\n",
    "    full_path = os.path.join(graph_dir, filename)\n",
    "    \"\"\"Read a single graph NPZ\"\"\"\n",
    "    with np.load(full_path) as f:\n",
    "        return sparse_to_graph(**dict(f.items()))\n",
    "def sparse_to_graph(X, Ri_rows, Ri_cols, Ro_rows, Ro_cols, y, dtype=np.float32):\n",
    "    n_nodes, n_edges = X.shape[0], Ri_rows.shape[0]\n",
    "    Ri = np.zeros((n_nodes, n_edges), dtype=dtype)\n",
    "    Ro = np.zeros((n_nodes, n_edges), dtype=dtype)\n",
    "    Ri[Ri_rows, Ri_cols] = 1\n",
    "    Ro[Ro_rows, Ro_cols] = 1\n",
    "    return Graph(X, Ri, Ro, y)\n",
    "#Function to load X, Ri, Ro, Y.\n",
    "def load_raw(graph_name,xyr):\n",
    "    graph_ex=load_graph(graph_name)\n",
    "    #Load raw data\n",
    "    y=graph_ex.y\n",
    "    Ri=graph_ex.Ri\n",
    "    Ro=graph_ex.Ro\n",
    "    X=graph_ex.X\n",
    "    if xyr=='X':\n",
    "        return X\n",
    "    elif xyr=='Ri':\n",
    "        return Ri\n",
    "    elif xyr=='Ro':\n",
    "        return Ro\n",
    "    else:\n",
    "        return y\n",
    "# Load X data of dimension Nv x 4(including color)\n",
    "import os\n",
    "import pandas as pd\n",
    "dir_ = os.path.join(os.getcwd(), 'color')\n",
    "#dir_ = os.path.join(os.getcwd(), 'coloredX')\n",
    "file_path = os.path.join(dir_, \"event000001000_g000.csv\")\n",
    "v = pd.read_csv(file_path)\n",
    "print(\"features data loaded...\")\n",
    "#Convenient representation of edge data \n",
    "#edges = [[i1,j1], [i2,j2], ... ]; i1, i2,... are outgoing-nodes, and j1, j2, ... are incoming-nodes\n",
    "import json\n",
    "graph='event000001000_g000'\n",
    "with open(\"./networks/\"+graph+\".json\", \"r\") as json_file:\n",
    "        _,_,edges= json.load(json_file)\n",
    "print(\"edge data loaded...\")"
   ]
  },
  {
   "cell_type": "code",
   "execution_count": 2,
   "id": "7206730e",
   "metadata": {},
   "outputs": [],
   "source": [
    "g_name='event000001000_g000.npz'\n",
    "Ri=load_raw(g_name,'Ri')\n",
    "Ro=load_raw(g_name,'Ro')\n",
    "Ri,Ro=Ri.T,Ro.T\n",
    "Rio=Ri+Ro\n",
    "Rio.shape\n",
    "y=load_raw(g_name,'y')"
   ]
  },
  {
   "cell_type": "code",
   "execution_count": 3,
   "id": "363f285c",
   "metadata": {},
   "outputs": [],
   "source": [
    "import json\n",
    "# Specify the path to your JSON file\n",
    "json_file_path = 'event000001000_g000_pairs.json'\n",
    "# Open the file and load the JSON data\n",
    "with open(json_file_path, 'r') as file:\n",
    "    data = json.load(file)\n",
    "# Access the data\n",
    "all_pairs=data[\"all_pairs\"]\n",
    "real_pairs,fake_pairs=data[\"real_pairs\"],data[\"fake_pairs\"]\n",
    "quads,f_quads=data[\"quads\"],data[\"f_quads\"]"
   ]
  },
  {
   "cell_type": "code",
   "execution_count": 4,
   "id": "b429ea4d",
   "metadata": {},
   "outputs": [
    {
     "data": {
      "text/plain": [
       "[[0, 1], [1, 2], [2, 3]]"
      ]
     },
     "execution_count": 4,
     "metadata": {},
     "output_type": "execute_result"
    }
   ],
   "source": [
    "quads[0]"
   ]
  },
  {
   "cell_type": "code",
   "execution_count": 12,
   "id": "b5dbabf9",
   "metadata": {},
   "outputs": [],
   "source": [
    "X=(v[0:4].values).flatten()"
   ]
  },
  {
   "cell_type": "code",
   "execution_count": 52,
   "id": "0465ebd3",
   "metadata": {},
   "outputs": [],
   "source": [
    "import pennylane as qml\n",
    "from qiskit.circuit import Parameter\n",
    "# Create a quantum circuit with Nv qubits\n",
    "Nv = 4\n",
    "num_qubits = Nv * 4  # 4 qubits per row (x,y,z,color)\n",
    "#layers=4\n",
    "# Define a list of trainable parameters for the entanglement\n",
    "num_params = Nv  # Number of trainable parameters for the entanglement\n",
    "import torch\n",
    "import torch.nn as nn\n",
    "import torch_geometric.nn as geom_nn\n",
    "import pennylane as qml\n",
    "from pennylane import numpy as np\n",
    "ansatz = torch.randn(Nv, requires_grad=True)\n",
    "#ansatz = np.random.random(size=(num_params*layers))"
   ]
  },
  {
   "cell_type": "code",
   "execution_count": 53,
   "id": "7e4faefc",
   "metadata": {},
   "outputs": [],
   "source": [
    "def quantum_circuit(X,ansatz):\n",
    "    for i in range(Nv):\n",
    "        for j in range(4):\n",
    "            if j==0:\n",
    "                qml.RX(X[i*4+j], wires = i * 4 + j)\n",
    "            elif j==1:\n",
    "                qml.RY(X[i*4+j], wires = i * 4 + j)\n",
    "            else:\n",
    "                qml.RZ(X[i*4+j], wires = i * 4 + j)\n",
    "        #Entangle 3 positions\n",
    "        qml.CNOT(wires = [i * 4, i * 4 + 1])\n",
    "        qml.CNOT(wires = [i * 4 + 1, i * 4 + 2])\n",
    "        qml.CNOT(wires = [i * 4 + 2, i * 4])\n",
    "        #Entangle color and position-x.\n",
    "        qml.CNOT(wires = [i * 4 + 3, i * 4])\n",
    "        # Encode each feature value into a qubit \n",
    "    # Apply trainable entanglement gates\n",
    "    for i in range(Nv):\n",
    "        qml.RZ(ansatz[i], wires = i * 4)\n",
    "    #Fully connect\n",
    "    for i in range(Nv):\n",
    "        for j in range(i + 1, Nv):\n",
    "            # Use trainable parameters for entanglement angles\n",
    "            qml.CNOT(wires = [i * 4, j * 4])\n",
    "# Updated quantum_layer function\n",
    "@qml.qnode(qml.device(\"default.qubit\", wires=4*Nv))\n",
    "def quantum_layer(x,params):\n",
    "    quantum_circuit(x,params)\n",
    "    return [qml.expval(qml.PauliZ(i*4)) for i in range(Nv)]\n",
    "# Create a custom quantum layer with PennyLane\n",
    "class QuantumLayer(nn.Module):\n",
    "    def __init__(self, num_qubits):\n",
    "        super(QuantumLayer, self).__init__()\n",
    "        self.num_qubits = num_qubits\n",
    "    def forward(self, x, params):\n",
    "        return quantum_layer(x,params)"
   ]
  },
  {
   "cell_type": "code",
   "execution_count": 108,
   "id": "53c8dc80",
   "metadata": {},
   "outputs": [
    {
     "name": "stdout",
     "output_type": "stream",
     "text": [
      "tensor([ 1.8590,  1.4237,  0.8091,  0.8818,  0.2672, -0.1681],\n",
      "       grad_fn=<SqueezeBackward0>)\n"
     ]
    }
   ],
   "source": [
    "class CustomMessagePassingLayer(MessagePassing):\n",
    "    def __init__(self, in_channels, out_channels):\n",
    "        super(CustomMessagePassingLayer, self).__init__(aggr='add')\n",
    "        self.linear = nn.Linear(in_channels * 2, out_channels)  # Input size is doubled for edge pairs\n",
    "\n",
    "    def forward(self, x, edge_index):\n",
    "        edge_index, _ = add_self_loops(edge_index, num_nodes=x.size(0))\n",
    "        return self.propagate(edge_index, x=x)\n",
    "\n",
    "    def message(self, x_i, x_j):\n",
    "        # Concatenate node features for each edge\n",
    "        message = torch.cat([x_i, x_j], dim=1)\n",
    "        return self.linear(message)\n",
    "\n",
    "    def update(self, aggr_out, x):\n",
    "        return aggr_out + x\n",
    "\n",
    "class ClassicalMessagePassing(nn.Module):\n",
    "    def __init__(self, num_nodes, num_edges, num_node_features, num_edge_features):\n",
    "        super(ClassicalMessagePassing, self).__init__()\n",
    "        self.num_nodes = num_nodes\n",
    "        self.num_edges = num_edges\n",
    "        self.num_node_features = num_node_features\n",
    "        self.num_edge_features = num_edge_features\n",
    "\n",
    "        self.message_passing_layer = CustomMessagePassingLayer(num_node_features, num_edge_features)\n",
    "        self.edge_classifier = nn.Linear(num_node_features, 1)\n",
    "\n",
    "    def forward(self, x, edge_index):\n",
    "        # Classical message passing layer\n",
    "        classical_output = self.message_passing_layer(x.view(self.num_nodes, -1), edge_index)\n",
    "        # Temporary edge features by combining node features (e.g., addition)\n",
    "        temp_edge_features = torch.tensor([])\n",
    "        for i in range(num_nodes):\n",
    "            for j in range(i + 1, num_nodes):\n",
    "                edge_f = classical_output[i] + classical_output[j]\n",
    "                temp_edge_features = torch.cat((temp_edge_features, edge_f.unsqueeze(0)), dim=0)\n",
    "        # Edge-level prediction\n",
    "        edge_scores = self.edge_classifier(temp_edge_features)\n",
    "        return edge_scores.squeeze()\n",
    "\n",
    "# Example usage\n",
    "num_nodes = 4\n",
    "num_edges = 6\n",
    "num_node_features = 3\n",
    "num_edge_features = 1  # Scalar edge feature\n",
    "\n",
    "# Assuming x and edge_index are your input features and edge connections\n",
    "x = torch.randn(num_nodes, num_node_features)\n",
    "edge_index = torch.tensor([[0, 0, 0, 1, 1, 2], [1, 2, 3, 2, 3, 3]])\n",
    "\n",
    "model = ClassicalMessagePassing(num_nodes, num_edges, num_node_features, num_edge_features)\n",
    "classical_output = model(x, edge_index)\n",
    "print(classical_output)"
   ]
  },
  {
   "cell_type": "code",
   "execution_count": 119,
   "id": "7c83fc01",
   "metadata": {},
   "outputs": [],
   "source": [
    "# Define a model that integrates quantum and classical components\n",
    "class QuantumMessagePassing(nn.Module):\n",
    "    def __init__(self, num_qubits, quantum_params):\n",
    "        super(QuantumMessagePassing, self).__init__()\n",
    "        self.num_qubits = num_qubits\n",
    "        self.quantum_params = quantum_params\n",
    "        self.quantum_layer = QuantumLayer(num_qubits)\n",
    "        self.message_passing_layer = CustomMessagePassingLayer(1, 1)  # Assuming 1-dimensional input for each node\n",
    "        self.edge_classifier = nn.Linear(num_edge_features, 1)  # Input size is doubled for edge pairs\n",
    "    def forward(self, x, edge_index):\n",
    "        # Quantum layer\n",
    "        quantum_output = self.quantum_layer(x, self.quantum_params)\n",
    "        # Classical message passing layer\n",
    "        #classical_output = self.message_passing_layer(x.view(-1, 1), edge_index).view(-1)  # Assuming 1-dimensional input for each node\n",
    "        first_q=torch.tensor([quantum_output[n] for n in edge_index[0]])\n",
    "        second_q=torch.tensor([quantum_output[n] for n in edge_index[1]])\n",
    "        quantum_edge=first_q+second_q\n",
    "        print(quantum_edge)\n",
    "        # Combine quantum and classical outputs for each node in the edge pair\n",
    "        combined_output = quantum_edge+classical_output\n",
    "        combined_output = combined_output.float()\n",
    "        combined_output = combined_output.reshape(6, 1)\n",
    "        # Edge-level prediction\n",
    "        edge_scores = self.edge_classifier(combined_output)\n",
    "        return edge_scores.squeeze()"
   ]
  },
  {
   "cell_type": "code",
   "execution_count": 120,
   "id": "e74726c9",
   "metadata": {},
   "outputs": [
    {
     "name": "stdout",
     "output_type": "stream",
     "text": [
      "tensor([1.0967, 1.1003, 1.1047, 0.8777, 0.8820, 0.8857], dtype=torch.float64)\n"
     ]
    }
   ],
   "source": [
    "# Example usage\n",
    "quantum_params = torch.randn(Nv, requires_grad=True)\n",
    "model = QuantumMessagePassing(num_qubits, quantum_params)\n",
    "\n",
    "# Assuming x and edge_index are your input features and edge connections\n",
    "edge_index = torch.tensor([[0, 0, 0, 1, 1, 2], \n",
    "                           [1, 2, 3, 2, 3, 3]])  # Fully connected graph\n",
    "\n",
    "output = model(X, edge_index)"
   ]
  }
 ],
 "metadata": {
  "kernelspec": {
   "display_name": "Python 3",
   "language": "python",
   "name": "python3"
  },
  "language_info": {
   "codemirror_mode": {
    "name": "ipython",
    "version": 3
   },
   "file_extension": ".py",
   "mimetype": "text/x-python",
   "name": "python",
   "nbconvert_exporter": "python",
   "pygments_lexer": "ipython3",
   "version": "3.8.8"
  }
 },
 "nbformat": 4,
 "nbformat_minor": 5
}
