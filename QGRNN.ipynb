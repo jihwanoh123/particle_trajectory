{
 "cells": [
  {
   "cell_type": "code",
   "execution_count": 1,
   "id": "5969f517",
   "metadata": {},
   "outputs": [],
   "source": [
    "import pennylane as qml\n",
    "from matplotlib import pyplot as plt\n",
    "from pennylane import numpy as np\n",
    "import scipy\n",
    "import networkx as nx\n",
    "import copy"
   ]
  },
  {
   "cell_type": "code",
   "execution_count": 2,
   "id": "9823980c",
   "metadata": {},
   "outputs": [],
   "source": [
    "qubit_number = 4\n",
    "qubits= range(qubit_number)"
   ]
  },
  {
   "cell_type": "code",
   "execution_count": 3,
   "id": "7f06ec6d",
   "metadata": {},
   "outputs": [
    {
     "name": "stdout",
     "output_type": "stream",
     "text": [
      "Edges: [(0, 1), (0, 3), (1, 2), (2, 3)]\n"
     ]
    },
    {
     "data": {
      "image/png": "[encoded data removed]",
      "text/plain": [
       "<Figure size 432x288 with 1 Axes>"
      ]
     },
     "metadata": {},
     "output_type": "display_data"
    }
   ],
   "source": [
    "ising_graph = nx.cycle_graph(qubit_number)\n",
    "print(f\"Edges: {ising_graph.edges}\")\n",
    "nx.draw(ising_graph)"
   ]
  },
  {
   "cell_type": "code",
   "execution_count": 4,
   "id": "e8ea0dae",
   "metadata": {},
   "outputs": [],
   "source": [
    "target_weights = [0.56, 1.24, 1.67, -0.79]\n",
    "target_bias = [-1.44, -1.43, 1.18, -0.93]"
   ]
  },
  {
   "cell_type": "code",
   "execution_count": 15,
   "id": "5feda735",
   "metadata": {},
   "outputs": [],
   "source": [
    "def create_hamiltonian_matrix(n_qubits,graph,weights,bias):\n",
    "    full_matrix = np.zeros((2**n_qubits,2**n_qubits))\n",
    "    #creates the interaction component of the Hamiltonian\n",
    "    for i, edge in enumerate(graph.edges):\n",
    "        interaction_term = 1\n",
    "        for qubit in range(0,n_qubits):\n",
    "            if qubit in edge:\n",
    "                interaction_term = np.kron(interaction_term,\n",
    "                                          qml.matrix(qml.PauliZ)(0))\n",
    "            else:\n",
    "                interaction_term = np.kron(interaction_term,\n",
    "                                          np.identity(2))\n",
    "        full_matrix += weights[i] *interaction_term\n",
    "    #Creates the bias components of the matrix\n",
    "    for i in range(0,n_qubits):\n",
    "        z_term = x_term = 1\n",
    "        for j in range(0,n_qubits):\n",
    "            if j == i:\n",
    "                z_term = np.kron(z_term,qml.matrix(qml.PauliZ)(0))\n",
    "                x_term = np.kron(x_term,qml.matrix(qml.PauliX)(0))\n",
    "            else:\n",
    "                z_term = np.kron(z_term, np.identity(2))\n",
    "                x_term = np.kron(x_term, np.identity(2))\n",
    "        full_matrix += bias[i] * z_term + x_term\n",
    "    return full_matrix"
   ]
  },
  {
   "cell_type": "code",
   "execution_count": 16,
   "id": "c362536f",
   "metadata": {},
   "outputs": [
    {
     "data": {
      "image/png": "[encoded data removed]",
      "text/plain": [
       "<Figure size 288x288 with 1 Axes>"
      ]
     },
     "metadata": {
      "needs_background": "light"
     },
     "output_type": "display_data"
    }
   ],
   "source": [
    "#Prints a visual rep of Hamiltonian matrix\n",
    "ham_matrix = create_hamiltonian_matrix(qubit_number,ising_graph,\n",
    "                                      target_weights,target_bias)\n",
    "plt.matshow(ham_matrix,cmap = \"hot\")\n",
    "plt.show()"
   ]
  },
  {
   "cell_type": "code",
   "execution_count": 17,
   "id": "7b72696c",
   "metadata": {},
   "outputs": [],
   "source": [
    "low_energy_state = [\n",
    "    (-0.054661080280306085 + 0.016713907320174026j),\n",
    "    (0.12290003656489545 - 0.03758500591109822j),\n",
    "    (0.3649337966440005 - 0.11158863596657455j),\n",
    "    (-0.8205175732627094 + 0.25093231967092877j),\n",
    "    (0.010369790825776609 - 0.0031706387262686003j),\n",
    "    (-0.02331544978544721 + 0.007129899300113728j),\n",
    "    (-0.06923183949694546 + 0.0211684344103713j),\n",
    "    (0.15566094863283836 - 0.04760201916285508j),\n",
    "    (0.014520590919500158 - 0.004441887836078486j),\n",
    "    (-0.032648113364535575 + 0.009988590222879195j),\n",
    "    (-0.09694382811137187 + 0.02965579457620536j),\n",
    "    (0.21796861485652747 - 0.06668776658411019j),\n",
    "    (-0.0027547112135013247 + 0.0008426289322652901j),\n",
    "    (0.006193695872468649 - 0.0018948418969390599j),\n",
    "    (0.018391279795405405 - 0.005625722994009138j),\n",
    "    (-0.041350974715649635 + 0.012650711602265649j),\n",
    "]"
   ]
  },
  {
   "cell_type": "code",
   "execution_count": 19,
   "id": "280e0743",
   "metadata": {},
   "outputs": [
    {
     "name": "stdout",
     "output_type": "stream",
     "text": [
      "Energy Expectation: -7.244508985189116\n",
      "Ground State Energy: -7.330689661291242\n"
     ]
    }
   ],
   "source": [
    "res = np.vdot(low_energy_state, (ham_matrix @ low_energy_state))\n",
    "energy_exp = np.real_if_close(res)\n",
    "print(f\"Energy Expectation: {energy_exp}\")\n",
    "ground_state_energy = np.real_if_close(min(np.linalg.eig(ham_matrix)[0]))\n",
    "print(f\"Ground State Energy: {ground_state_energy}\")"
   ]
  },
  {
   "cell_type": "code",
   "execution_count": 20,
   "id": "a478f6b8",
   "metadata": {},
   "outputs": [],
   "source": [
    "def state_evolve(hamiltonian,qubits,time):\n",
    "    U = scipy.linalg.expm(-1j*hamiltonian*time)\n",
    "    qml.QubitUnitary(U, wires = qubits)"
   ]
  },
  {
   "cell_type": "code",
   "execution_count": 21,
   "id": "58a26e56",
   "metadata": {},
   "outputs": [],
   "source": [
    "#Construct the QGRNN\n",
    "def qgrnn_layer(weights, bias, qubits, graph, trotter_step):\n",
    "    #Applies a layer of RZZ gates\n",
    "    for i, edge in enumerate(graph.edges):\n",
    "        qml.MultiRZ(2*weights[i]*trotter_step,wires = (edge[0],edge[1]))\n",
    "    #Applies a layer of RZ gates\n",
    "    for i, qubit in enumerate(qubits):\n",
    "        qml.RZ(2*bias[i]*trotter_step,wires=qubit)\n",
    "    #Applies a layer of RX gates\n",
    "    for qubit in qubits:\n",
    "        qml.RX(2*trotter_step,wires = qubit)"
   ]
  },
  {
   "cell_type": "code",
   "execution_count": 22,
   "id": "7620b8de",
   "metadata": {},
   "outputs": [],
   "source": [
    "#Measure the similarity between prepared quantum data and evolved states\n",
    "def swap_test(control, register1, register2):\n",
    "    qml.Hadamard(wires = control)\n",
    "    for reg1_qubit, reg2_qubit in zip(register1,register2):\n",
    "        qml.CSWAP(wires=(control,reg1_qubit,reg2_qubit))\n",
    "    qml.Hadamard(wires=control)"
   ]
  },
  {
   "cell_type": "code",
   "execution_count": 23,
   "id": "e95403c2",
   "metadata": {},
   "outputs": [
    {
     "name": "stdout",
     "output_type": "stream",
     "text": [
      "Edges: [(4, 5), (4, 6), (4, 7), (5, 6), (5, 7), (6, 7)]\n"
     ]
    },
    {
     "data": {
      "image/png": "[encoded data removed]",
      "text/plain": [
       "<Figure size 432x288 with 1 Axes>"
      ]
     },
     "metadata": {},
     "output_type": "display_data"
    }
   ],
   "source": [
    "#Define a starting complete graph from which we learn a true one\n",
    "reg1 = tuple(range(qubit_number))\n",
    "reg2 = tuple(range(qubit_number, 2*qubit_number))\n",
    "control = 2*qubit_number\n",
    "trotter_step = 0.01\n",
    "new_ising_graph = nx.complete_graph(reg2)\n",
    "print(f\"Edges: {new_ising_graph.edges}\")\n",
    "nx.draw(new_ising_graph)"
   ]
  },
  {
   "cell_type": "code",
   "execution_count": 24,
   "id": "302404ce",
   "metadata": {},
   "outputs": [],
   "source": [
    "#Implement the QGRNN circuit\n",
    "def qgrnn(weights,bias,time=None):\n",
    "    #Prepare the low energy state in the two registers\n",
    "    qml.StatePrep(np.kron(low_energy_state,low_energy_state),\n",
    "                 wires = reg1+reg2)\n",
    "    #Evolve the first qubit register with the time-evol circuit\n",
    "    state_evolve(ham_matrix,reg1,time)\n",
    "    #Applies QGRNN layers to the second qubit register\n",
    "    depth = time/trotter_step\n",
    "    for _ in range(0,int(depth)):\n",
    "        qgrnn_layer(weights,bias,reg2,new_ising_graph,trotter_step)\n",
    "    #Applies the SWAP test between the registers\n",
    "    swap_test(control,reg1,reg2)\n",
    "    #Returns the results of the SWAP test\n",
    "    return qml.expval(qml.PauliZ(control))"
   ]
  },
  {
   "cell_type": "code",
   "execution_count": 25,
   "id": "e86597a1",
   "metadata": {},
   "outputs": [],
   "source": [
    "#Need to define cost function as a similarity b/w two registers\n",
    "N = 15 # number of quantum data used for each step\n",
    "max_time = 0.1 # max val time that can be used for quantum data\n",
    "rng = np.random.default_rng(seed=42)\n",
    "#Define negative fidelity\n",
    "def cost_function(weight_params,bias_params):\n",
    "    #Random time when QGRNN runs\n",
    "    times_sampled = rng.random(size=N)*max_time\n",
    "    total_cost=0\n",
    "    for dt in times_sampled:\n",
    "        result = qgrnn_qnode(weight_params,bias_params,time=dt)\n",
    "        total_cost += -1*result\n",
    "    return total_cost/N"
   ]
  },
  {
   "cell_type": "code",
   "execution_count": 26,
   "id": "ee492c47",
   "metadata": {},
   "outputs": [],
   "source": [
    "#Set-up for optimization\n",
    "qgrnn_dev = qml.device(\"default.qubit\",wires=2*qubit_number+1)\n",
    "#Defines the new QNode\n",
    "qgrnn_qnode = qml.QNode(qgrnn,qgrnn_dev,interface = \"autograd\")\n",
    "steps=300\n",
    "optimizer = qml.AdamOptimizer(stepsize=0.5)\n",
    "weights = rng.random(size=len(new_ising_graph.edges),requires_grad=True)-0.5\n",
    "bias = rng.random(size=qubit_number,requires_grad=True)-0.5\n",
    "initial_weights = copy.copy(weights)\n",
    "initial_bias= copy.copy(bias)"
   ]
  },
  {
   "cell_type": "code",
   "execution_count": 27,
   "id": "fd446bc0",
   "metadata": {},
   "outputs": [
    {
     "name": "stdout",
     "output_type": "stream",
     "text": [
      "Cost at Step 0: -0.9803638573791906\n",
      "Weights at Step 0: [-0.22603613  0.43887001  0.85859236  0.69735898  0.09417125 -0.02437147]\n",
      "Bias at Step 0: [-0.23884748 -0.21392016  0.12809368  0.45037793]\n",
      "-------------------------------\n",
      "Cost at Step 5: -0.997458952442803\n",
      "Weights at Step 5: [-0.75106068  1.078707    0.83766935  1.9741555   0.04982793 -0.06747815]\n",
      "Bias at Step 5: [-0.50836435 -1.32708118  1.57468372  0.11442806]\n",
      "-------------------------------\n",
      "Cost at Step 10: -0.9971878268304797\n",
      "Weights at Step 10: [ 0.01577799  0.48771566  0.68379977  1.75747002 -0.21948418 -0.00484698]\n",
      "Bias at Step 10: [ 0.22007905 -0.90282076  1.58989008 -0.1051542 ]\n",
      "-------------------------------\n",
      "Cost at Step 15: -0.9981871533122741\n",
      "Weights at Step 15: [-0.06744249  0.65720464  1.31471457  1.47430241  0.05813038 -0.41315658]\n",
      "Bias at Step 15: [-0.29045223 -0.67045595  1.19395446  0.24677711]\n",
      "-------------------------------\n",
      "Cost at Step 20: -0.9995130692146869\n",
      "Weights at Step 20: [-0.16225009  0.66208813  1.17758061  1.48254064 -0.35468207 -0.01648733]\n",
      "Bias at Step 20: [-0.56832881 -0.87721581  0.86890622 -0.27734217]\n",
      "-------------------------------\n",
      "Cost at Step 25: -0.9998181560069559\n",
      "Weights at Step 25: [ 0.030689    0.40363412  1.32430282  1.80692972 -0.14761078 -0.27452275]\n",
      "Bias at Step 25: [-0.33695681 -1.28646051  1.00509121 -0.19672993]\n",
      "-------------------------------\n",
      "Cost at Step 30: -0.9997713453918133\n",
      "Weights at Step 30: [ 0.22014178  0.38063046  1.34934589  1.82854127 -0.201276   -0.35610913]\n",
      "Bias at Step 30: [-0.40515586 -1.19466624  1.13933672 -0.31753371]\n",
      "-------------------------------\n",
      "Cost at Step 35: -0.9997858632135159\n",
      "Weights at Step 35: [ 0.22310889  0.50896099  1.36029033  1.73588161 -0.30076632 -0.35201799]\n",
      "Bias at Step 35: [-0.73605504 -1.06150682  1.07911402 -0.49331792]\n",
      "-------------------------------\n",
      "Cost at Step 40: -0.9998587245201027\n",
      "Weights at Step 40: [ 0.32580831  0.34293483  1.38813471  1.76261455 -0.16880133 -0.49831078]\n",
      "Bias at Step 40: [-0.74534508 -1.20379495  0.91916721 -0.49099848]\n",
      "-------------------------------\n",
      "Cost at Step 45: -0.9998796449154707\n",
      "Weights at Step 45: [ 0.37151473  0.26329833  1.29149206  1.84754531 -0.16287055 -0.51793342]\n",
      "Bias at Step 45: [-0.81082195 -1.35860008  0.88788716 -0.63818331]\n",
      "-------------------------------\n",
      "Cost at Step 50: -0.9999381279674817\n",
      "Weights at Step 50: [ 0.36839385  0.36200243  1.3398256   1.82138962 -0.10863003 -0.63499473]\n",
      "Bias at Step 50: [-1.04909977 -1.27581779  0.93902928 -0.67286639]\n",
      "-------------------------------\n",
      "Cost at Step 55: -0.9999252881391635\n",
      "Weights at Step 55: [ 0.52717503  0.22669791  1.27477846  1.75733597 -0.1195999  -0.66147384]\n",
      "Bias at Step 55: [-1.02458911 -1.19668936  0.89787258 -0.76851797]\n",
      "-------------------------------\n",
      "Cost at Step 60: -0.9999298586216633\n",
      "Weights at Step 60: [ 0.46426344  0.2377941   1.30579533  1.86309089 -0.05164041 -0.72495523]\n",
      "Bias at Step 60: [-1.15189323 -1.3565901   0.92299357 -0.81716179]\n",
      "-------------------------------\n",
      "Cost at Step 65: -0.9999633163685122\n",
      "Weights at Step 65: [ 0.54814165  0.15321249  1.29421602  1.79468038 -0.06551864 -0.73442872]\n",
      "Bias at Step 65: [-1.18093812 -1.2850757   0.8715214  -0.89498456]\n",
      "-------------------------------\n",
      "Cost at Step 70: -0.9999692974112367\n",
      "Weights at Step 70: [ 0.54968362  0.15363051  1.32636004  1.81799545 -0.03795287 -0.78176424]\n",
      "Bias at Step 70: [-1.26004878 -1.29186174  0.93275685 -0.93151559]\n",
      "-------------------------------\n",
      "Cost at Step 75: -0.9999839418035987\n",
      "Weights at Step 75: [ 0.56926778  0.09899053  1.32784104  1.83800055 -0.02258999 -0.80100631]\n",
      "Bias at Step 75: [-1.27844754 -1.32707392  0.95121289 -0.97776518]\n",
      "-------------------------------\n",
      "Cost at Step 80: -0.9999900754964176\n",
      "Weights at Step 80: [ 0.58436296  0.06469565  1.33177097  1.80638755 -0.0264562  -0.80504093]\n",
      "Bias at Step 80: [-1.32003524 -1.30314422  0.93367031 -1.02093595]\n",
      "-------------------------------\n",
      "Cost at Step 85: -0.9999892005586408\n",
      "Weights at Step 85: [ 5.76118484e-01  5.92975577e-02  1.35458994e+00  1.82562544e+00\n",
      " -6.90843714e-04 -8.37859294e-01]\n",
      "Bias at Step 85: [-1.35783384 -1.32173749  0.97374052 -1.02956436]\n",
      "-------------------------------\n",
      "Cost at Step 90: -0.9999860418671421\n",
      "Weights at Step 90: [ 0.60406684  0.01793718  1.33218637  1.81633306 -0.0189833  -0.82575128]\n",
      "Bias at Step 90: [-1.35074923 -1.31381294  0.98189172 -1.07270478]\n",
      "-------------------------------\n",
      "Cost at Step 95: -0.9999837519650678\n",
      "Weights at Step 95: [ 0.58241323  0.02570679  1.35041725  1.81039596  0.00900262 -0.85399323]\n",
      "Bias at Step 95: [-1.39511753 -1.32055157  0.98642234 -1.06137202]\n",
      "-------------------------------\n",
      "Cost at Step 100: -0.9999862374755373\n",
      "Weights at Step 100: [ 0.59133649  0.00671959  1.33149619  1.80654252  0.00739735 -0.85271751]\n",
      "Bias at Step 100: [-1.3928395  -1.32434117  0.99986843 -1.0746036 ]\n",
      "-------------------------------\n",
      "Cost at Step 105: -0.9999860417314501\n",
      "Weights at Step 105: [ 5.98294601e-01 -1.63872117e-03  1.32435903e+00  1.79606830e+00\n",
      " -1.50600209e-03 -8.46854780e-01]\n",
      "Bias at Step 105: [-1.39810406 -1.31716394  1.00632966 -1.08694727]\n",
      "-------------------------------\n",
      "Cost at Step 110: -0.9999889448376538\n",
      "Weights at Step 110: [ 0.58790075  0.00252021  1.34070893  1.79969067  0.01353978 -0.86073241]\n",
      "Bias at Step 110: [-1.41237809 -1.33237829  1.01344356 -1.07306401]\n",
      "-------------------------------\n",
      "Cost at Step 115: -0.9999907527375036\n",
      "Weights at Step 115: [ 0.59511523 -0.00485992  1.33269226  1.79443191  0.00548165 -0.85246429]\n",
      "Bias at Step 115: [-1.40713813 -1.33369881  1.02023634 -1.07811166]\n",
      "-------------------------------\n",
      "Cost at Step 120: -0.9999894991115474\n",
      "Weights at Step 120: [ 5.96065192e-01 -3.92737036e-03  1.33288381e+00  1.78858855e+00\n",
      "  1.75644333e-03 -8.48477853e-01]\n",
      "Bias at Step 120: [-1.40998319 -1.33422301  1.02362295 -1.07680692]\n",
      "-------------------------------\n",
      "Cost at Step 125: -0.9999921833903868\n",
      "Weights at Step 125: [ 5.91985767e-01 -1.57241251e-03  1.33882177e+00  1.79191152e+00\n",
      "  8.89983556e-03 -8.53306759e-01]\n",
      "Bias at Step 125: [-1.41164517 -1.34685868  1.0288417  -1.06603474]\n",
      "-------------------------------\n",
      "Cost at Step 130: -0.9999895629847486\n",
      "Weights at Step 130: [ 5.93396935e-01 -6.09903975e-04  1.32769014e+00  1.78340627e+00\n",
      "  3.20989912e-03 -8.45936030e-01]\n",
      "Bias at Step 130: [-1.41153989 -1.34372306  1.0306921  -1.06641934]\n",
      "-------------------------------\n",
      "Cost at Step 135: -0.9999893671898544\n",
      "Weights at Step 135: [ 5.93933082e-01 -1.84879055e-04  1.32433785e+00  1.77929886e+00\n",
      "  4.38714188e-03 -8.45503125e-01]\n",
      "Bias at Step 135: [-1.4098866  -1.34497204  1.03415862 -1.06007092]\n",
      "-------------------------------\n",
      "Cost at Step 140: -0.999990999591533\n",
      "Weights at Step 140: [ 0.5908483   0.00239647  1.33016899  1.78168215  0.00438378 -0.84478361]\n",
      "Bias at Step 140: [-1.41145547 -1.35249113  1.0371159  -1.05630093]\n",
      "-------------------------------\n",
      "Cost at Step 145: -0.9999882781659927\n",
      "Weights at Step 145: [ 5.95379262e-01 -3.85481762e-04  1.33209614e+00  1.77901613e+00\n",
      " -1.07423798e-03 -8.40357066e-01]\n",
      "Bias at Step 145: [-1.40745547 -1.35117282  1.03764696 -1.05779208]\n",
      "-------------------------------\n",
      "Cost at Step 150: -0.9999882605157342\n",
      "Weights at Step 150: [ 0.59753863 -0.00178702  1.33577445  1.78058366 -0.00414765 -0.83825161]\n",
      "Bias at Step 150: [-1.40514789 -1.35375725  1.03826782 -1.05953418]\n",
      "-------------------------------\n",
      "Cost at Step 155: -0.9999873092858327\n",
      "Weights at Step 155: [ 5.96677467e-01  6.17989620e-04  1.34466485e+00  1.78402267e+00\n",
      " -2.65741532e-03 -8.41450495e-01]\n",
      "Bias at Step 155: [-1.40789298 -1.356471    1.0376034  -1.05877886]\n",
      "-------------------------------\n",
      "Cost at Step 160: -0.9999872637771742\n",
      "Weights at Step 160: [ 0.60194839 -0.00191478  1.35123357  1.7884694  -0.00603744 -0.84142449]\n",
      "Bias at Step 160: [-1.40510396 -1.35668892  1.03451132 -1.06543631]\n",
      "-------------------------------\n",
      "Cost at Step 165: -0.9999874624869766\n",
      "Weights at Step 165: [ 0.6030402  -0.00193504  1.34611742  1.78890714 -0.00577061 -0.84238872]\n",
      "Bias at Step 165: [-1.40613555 -1.35445251  1.02812253 -1.07090041]\n",
      "-------------------------------\n",
      "Cost at Step 170: -0.9999886747321689\n",
      "Weights at Step 170: [ 0.5975333   0.00282116  1.32780927  1.78277225  0.00466827 -0.84919749]\n",
      "Bias at Step 170: [-1.41126245 -1.34857858  1.02684163 -1.0645541 ]\n",
      "-------------------------------\n"
     ]
    },
    {
     "name": "stdout",
     "output_type": "stream",
     "text": [
      "Cost at Step 175: -0.999987556250722\n",
      "Weights at Step 175: [ 0.59389571  0.00440434  1.32168971  1.78088367  0.00772899 -0.85019789]\n",
      "Bias at Step 175: [-1.41279703 -1.34685714  1.02847119 -1.06186318]\n",
      "-------------------------------\n",
      "Cost at Step 180: -0.9999914836764834\n",
      "Weights at Step 180: [ 5.95476507e-01  1.04646713e-03  1.33253375e+00  1.78379408e+00\n",
      "  1.79045580e-03 -8.45539923e-01]\n",
      "Bias at Step 180: [-1.40924345 -1.34843997  1.03054894 -1.06465758]\n",
      "-------------------------------\n",
      "Cost at Step 185: -0.9999877384049592\n",
      "Weights at Step 185: [ 0.60021817 -0.00344807  1.34837992  1.78919267 -0.00485391 -0.84211998]\n",
      "Bias at Step 185: [-1.40406354 -1.35059434  1.03159602 -1.06906187]\n",
      "-------------------------------\n",
      "Cost at Step 190: -0.9999943811280623\n",
      "Weights at Step 190: [ 0.60332647 -0.00502377  1.35580211  1.7937833  -0.00870162 -0.84089377]\n",
      "Bias at Step 190: [-1.40248031 -1.35189812  1.02840358 -1.07489377]\n",
      "-------------------------------\n",
      "Cost at Step 195: -0.9999899532834507\n",
      "Weights at Step 195: [ 6.01661213e-01 -1.40258189e-03  1.34845381e+00  1.79177947e+00\n",
      " -2.19330435e-03 -8.46882171e-01]\n",
      "Bias at Step 195: [-1.40624231 -1.34827409  1.02488298 -1.07228167]\n",
      "-------------------------------\n",
      "Cost at Step 200: -0.9999880990041629\n",
      "Weights at Step 200: [ 0.59781588  0.00262681  1.33622645  1.7903236   0.00491206 -0.85187394]\n",
      "Bias at Step 200: [-1.41001483 -1.3468901   1.02276916 -1.06950677]\n",
      "-------------------------------\n",
      "Cost at Step 205: -0.9999882388738662\n",
      "Weights at Step 205: [ 0.59525242  0.00459556  1.33045933  1.78843797  0.00647584 -0.85208423]\n",
      "Bias at Step 205: [-1.41193406 -1.34513748  1.02230177 -1.06854427]\n",
      "-------------------------------\n",
      "Cost at Step 210: -0.9999848077040174\n",
      "Weights at Step 210: [ 0.59407847  0.00331191  1.3261464   1.78462336  0.00583158 -0.84928496]\n",
      "Bias at Step 210: [-1.40995186 -1.34363827  1.02517197 -1.06554306]\n",
      "-------------------------------\n",
      "Cost at Step 215: -0.9999886167575431\n",
      "Weights at Step 215: [ 5.93598280e-01  1.27457027e-03  1.32894414e+00  1.78302258e+00\n",
      "  3.44879382e-03 -8.45638843e-01]\n",
      "Bias at Step 215: [-1.40701621 -1.34498189  1.03023459 -1.06215846]\n",
      "-------------------------------\n",
      "Cost at Step 220: -0.9999875727826187\n",
      "Weights at Step 220: [ 5.94793970e-01 -8.57403942e-04  1.33609793e+00  1.78453102e+00\n",
      " -2.17937735e-03 -8.40640138e-01]\n",
      "Bias at Step 220: [-1.40459538 -1.34840612  1.03328985 -1.06323676]\n",
      "-------------------------------\n",
      "Cost at Step 225: -0.9999895237582316\n",
      "Weights at Step 225: [ 0.59740767 -0.00202435  1.33963888  1.78462403 -0.00566848 -0.83842794]\n",
      "Bias at Step 225: [-1.40352872 -1.34909283  1.03367034 -1.0646202 ]\n",
      "-------------------------------\n",
      "Cost at Step 230: -0.999992221715183\n",
      "Weights at Step 230: [ 0.59830589 -0.00184753  1.33406652  1.78177535 -0.00330205 -0.84015047]\n",
      "Bias at Step 230: [-1.40427031 -1.34839966  1.03168677 -1.06292291]\n",
      "-------------------------------\n",
      "Cost at Step 235: -0.9999912692867916\n",
      "Weights at Step 235: [ 5.95836686e-01  8.57240159e-04  1.32786532e+00  1.78035155e+00\n",
      "  2.56153005e-03 -8.44403818e-01]\n",
      "Bias at Step 235: [-1.40725255 -1.34955664  1.03260437 -1.05840103]\n",
      "-------------------------------\n",
      "Cost at Step 240: -0.999989935769989\n",
      "Weights at Step 240: [ 0.59351612  0.00209534  1.32485259  1.77824259  0.00444528 -0.8447466 ]\n",
      "Bias at Step 240: [-1.40903945 -1.35042747  1.03478287 -1.05550792]\n",
      "-------------------------------\n",
      "Cost at Step 245: -0.9999889869569205\n",
      "Weights at Step 245: [ 5.95395532e-01  1.23721713e-03  1.33593185e+00  1.78146341e+00\n",
      " -1.83303336e-03 -8.40987115e-01]\n",
      "Bias at Step 245: [-1.40856761 -1.35225776  1.03748333 -1.05978839]\n",
      "-------------------------------\n",
      "Cost at Step 250: -0.9999881293170488\n",
      "Weights at Step 250: [ 5.95495047e-01 -2.18886873e-04  1.33760142e+00  1.78252108e+00\n",
      " -1.04388862e-03 -8.41650674e-01]\n",
      "Bias at Step 250: [-1.40788422 -1.35473503  1.03617744 -1.05980154]\n",
      "-------------------------------\n",
      "Cost at Step 255: -0.9999892613809336\n",
      "Weights at Step 255: [ 5.95095996e-01  1.05345945e-03  1.33120954e+00  1.78110699e+00\n",
      "  9.09621038e-04 -8.43176791e-01]\n",
      "Bias at Step 255: [-1.40881827 -1.35271576  1.03732158 -1.05936317]\n",
      "-------------------------------\n",
      "Cost at Step 260: -0.9999911696516826\n",
      "Weights at Step 260: [ 0.59215329  0.00249312  1.32162048  1.77469111  0.00411753 -0.84385295]\n",
      "Bias at Step 260: [-1.41164782 -1.34921326  1.03505213 -1.05565234]\n",
      "-------------------------------\n",
      "Cost at Step 265: -0.9999897602169295\n",
      "Weights at Step 265: [ 5.94219509e-01  1.15801805e-03  1.32981272e+00  1.77875998e+00\n",
      "  2.00797690e-03 -8.43338459e-01]\n",
      "Bias at Step 265: [-1.40879199 -1.35161558  1.04052305 -1.05548315]\n",
      "-------------------------------\n",
      "Cost at Step 270: -0.9999877865048058\n",
      "Weights at Step 270: [ 0.5967199  -0.00228699  1.34015592  1.78207987 -0.00207472 -0.8407702 ]\n",
      "Bias at Step 270: [-1.40654726 -1.35550984  1.03685756 -1.05892969]\n",
      "-------------------------------\n",
      "Cost at Step 275: -0.9999913148930895\n",
      "Weights at Step 275: [ 5.95115179e-01  6.67458889e-04  1.33088691e+00  1.77908492e+00\n",
      "  2.17950090e-03 -8.43784743e-01]\n",
      "Bias at Step 275: [-1.40907272 -1.35232601  1.03787329 -1.05577319]\n",
      "-------------------------------\n",
      "Cost at Step 280: -0.9999912773773976\n",
      "Weights at Step 280: [ 5.94534323e-01  1.49825127e-03  1.33221200e+00  1.78129607e+00\n",
      "  1.80930063e-03 -8.43864609e-01]\n",
      "Bias at Step 280: [-1.41032893 -1.35393432  1.03609549 -1.0579392 ]\n",
      "-------------------------------\n",
      "Cost at Step 285: -0.9999871922879657\n",
      "Weights at Step 285: [ 5.96437497e-01  3.12450031e-04  1.33601315e+00  1.78353853e+00\n",
      " -7.60576311e-04 -8.42698914e-01]\n",
      "Bias at Step 285: [-1.40896079 -1.3539148   1.03483345 -1.06189856]\n",
      "-------------------------------\n",
      "Cost at Step 290: -0.9999918144420527\n",
      "Weights at Step 290: [ 0.5928268   0.00288728  1.32568915  1.77748739  0.00484885 -0.84553166]\n",
      "Bias at Step 290: [-1.41115856 -1.34928842  1.03616776 -1.0560555 ]\n",
      "-------------------------------\n",
      "Cost at Step 295: -0.9999908668757236\n",
      "Weights at Step 295: [ 5.95067478e-01  6.59873700e-06  1.33530656e+00  1.78268285e+00\n",
      " -6.83963342e-04 -8.41953097e-01]\n",
      "Bias at Step 295: [-1.40781716 -1.35320774  1.03673384 -1.06074438]\n",
      "-------------------------------\n"
     ]
    }
   ],
   "source": [
    "#Execute optimization loop\n",
    "for i in range(0,steps):\n",
    "    (weights,bias),cost =optimizer.step_and_cost(cost_function,\n",
    "                                                weights,bias)\n",
    "    #Print the value of the cost function\n",
    "    if i%5 == 0:\n",
    "        print(f\"Cost at Step {i}: {cost}\")\n",
    "        print(f\"Weights at Step {i}: {weights}\")\n",
    "        print(f\"Bias at Step {i}: {bias}\")\n",
    "        print(\"-------------------------------\")"
   ]
  },
  {
   "cell_type": "code",
   "execution_count": 28,
   "id": "b1cd56dd",
   "metadata": {},
   "outputs": [
    {
     "data": {
      "image/png": "[encoded data removed]",
      "text/plain": [
       "<Figure size 432x432 with 3 Axes>"
      ]
     },
     "metadata": {
      "needs_background": "light"
     },
     "output_type": "display_data"
    }
   ],
   "source": [
    "#Visualize the new hamiltonian\n",
    "new_ham_matrix = create_hamiltonian_matrix(\n",
    "    qubit_number, nx.complete_graph(qubit_number), weights, bias\n",
    ")\n",
    "\n",
    "init_ham = create_hamiltonian_matrix(\n",
    "    qubit_number, nx.complete_graph(qubit_number), initial_weights, initial_bias\n",
    ")\n",
    "\n",
    "fig, axes = plt.subplots(nrows=1, ncols=3, figsize=(6, 6))\n",
    "\n",
    "axes[0].matshow(ham_matrix, vmin=-7, vmax=7, cmap=\"hot\")\n",
    "axes[0].set_title(\"Target\", y=1.13)\n",
    "\n",
    "axes[1].matshow(init_ham, vmin=-7, vmax=7, cmap=\"hot\")\n",
    "axes[1].set_title(\"Initial\", y=1.13)\n",
    "\n",
    "axes[2].matshow(new_ham_matrix, vmin=-7, vmax=7, cmap=\"hot\")\n",
    "axes[2].set_title(\"Learned\", y=1.13)\n",
    "\n",
    "plt.subplots_adjust(wspace=0.3, hspace=0.3)\n",
    "plt.show()"
   ]
  },
  {
   "cell_type": "code",
   "execution_count": 29,
   "id": "a656f5b6",
   "metadata": {},
   "outputs": [],
   "source": [
    "# We first pick out the weights of edges (1, 3) and (2, 0)\n",
    "# and then remove them from the list of target parameters\n",
    "\n",
    "weights_noedge = []\n",
    "weights_edge = []\n",
    "for ii, edge in enumerate(new_ising_graph.edges):\n",
    "    if (edge[0] - qubit_number, edge[1] - qubit_number) in ising_graph.edges:\n",
    "        weights_edge.append(weights[ii])\n",
    "    else:\n",
    "        weights_noedge.append(weights[ii])"
   ]
  },
  {
   "cell_type": "code",
   "execution_count": 30,
   "id": "4060c2aa",
   "metadata": {},
   "outputs": [
    {
     "name": "stdout",
     "output_type": "stream",
     "text": [
      "Target parameters     Learned parameters\n",
      "Weights\n",
      "-----------------------------------------\n",
      "0.56                |  0.5988034096092922\n",
      "1.24                |    1.34838655120052\n",
      "1.67                |   1.786207064845585\n",
      "-0.79               | -0.8425475506159146\n",
      "\n",
      "Bias\n",
      "-----------------------------------------\n",
      "-1.44               | -1.4067983643943986\n",
      "-1.43               |  -1.352963862717374\n",
      "1.18                |  1.0349129419830692\n",
      "-0.93               |  -1.063587496659975\n",
      "\n",
      "Non-Existing Edge Parameters: [-0.0012651471928271597, -0.0036534472423319234]\n"
     ]
    }
   ],
   "source": [
    "print(\"Target parameters     Learned parameters\")\n",
    "print(\"Weights\")\n",
    "print(\"-\" * 41)\n",
    "for ii_target, ii_learned in zip(target_weights, weights_edge):\n",
    "    print(f\"{ii_target : <20}|{ii_learned : >20}\")\n",
    "\n",
    "print(\"\\nBias\")\n",
    "print(\"-\"*41)\n",
    "for ii_target, ii_learned in zip(target_bias, bias):\n",
    "    print(f\"{ii_target : <20}|{ii_learned : >20}\")\n",
    "\n",
    "print(f\"\\nNon-Existing Edge Parameters: {[val.unwrap() for val in weights_noedge]}\")"
   ]
  },
  {
   "cell_type": "code",
   "execution_count": null,
   "id": "5d71e620",
   "metadata": {},
   "outputs": [],
   "source": []
  }
 ],
 "metadata": {
  "kernelspec": {
   "display_name": "Python 3",
   "language": "python",
   "name": "python3"
  },
  "language_info": {
   "codemirror_mode": {
    "name": "ipython",
    "version": 3
   },
   "file_extension": ".py",
   "mimetype": "text/x-python",
   "name": "python",
   "nbconvert_exporter": "python",
   "pygments_lexer": "ipython3",
   "version": "3.8.8"
  }
 },
 "nbformat": 4,
 "nbformat_minor": 5
}
