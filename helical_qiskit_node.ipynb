{
 "cells": [
  {
   "cell_type": "code",
   "execution_count": 1,
   "id": "f8e62387",
   "metadata": {},
   "outputs": [],
   "source": [
    "import numpy as np\n",
    "import matplotlib.pyplot as plt\n",
    "from qiskit import QuantumCircuit, Aer\n",
    "from qiskit_algorithms.optimizers import COBYLA\n",
    "from qiskit.utils import QuantumInstance\n",
    "from qiskit_machine_learning.algorithms.classifiers import NeuralNetworkClassifier, VQC\n",
    "from qiskit.circuit import ParameterVector"
   ]
  },
  {
   "cell_type": "code",
   "execution_count": 4,
   "id": "2a34e682",
   "metadata": {},
   "outputs": [
    {
     "name": "stdout",
     "output_type": "stream",
     "text": [
      "features data loaded...\n"
     ]
    }
   ],
   "source": [
    "# Load X data of dimension Nv x 4(including color)\n",
    "import os\n",
    "import pandas as pd\n",
    "v = pd.read_csv('hits_and_tracks_3d_events_all.csv', sep=';')\n",
    "print(\"features data loaded...\")"
   ]
  },
  {
   "cell_type": "code",
   "execution_count": 9,
   "id": "4cc7dd1d",
   "metadata": {},
   "outputs": [
    {
     "data": {
      "text/html": [
       "<div>\n",
       "<style scoped>\n",
       "    .dataframe tbody tr th:only-of-type {\n",
       "        vertical-align: middle;\n",
       "    }\n",
       "\n",
       "    .dataframe tbody tr th {\n",
       "        vertical-align: top;\n",
       "    }\n",
       "\n",
       "    .dataframe thead th {\n",
       "        text-align: right;\n",
       "    }\n",
       "</style>\n",
       "<table border=\"1\" class=\"dataframe\">\n",
       "  <thead>\n",
       "    <tr style=\"text-align: right;\">\n",
       "      <th></th>\n",
       "      <th>event_id</th>\n",
       "      <th>sub_detector_id</th>\n",
       "      <th>sub_detector_type</th>\n",
       "      <th>track_id</th>\n",
       "      <th>track_type</th>\n",
       "      <th>radial_const</th>\n",
       "      <th>azimuthal_const</th>\n",
       "      <th>pitch_const</th>\n",
       "      <th>radial_coeff</th>\n",
       "      <th>azimuthal_coeff</th>\n",
       "      <th>pitch_coeff</th>\n",
       "      <th>hit_id</th>\n",
       "      <th>hit_r</th>\n",
       "      <th>hit_theta</th>\n",
       "      <th>hit_z</th>\n",
       "    </tr>\n",
       "  </thead>\n",
       "  <tbody>\n",
       "    <tr>\n",
       "      <th>0</th>\n",
       "      <td>0</td>\n",
       "      <td>1</td>\n",
       "      <td>short_strip</td>\n",
       "      <td>0</td>\n",
       "      <td>helical_expanding</td>\n",
       "      <td>0.040474</td>\n",
       "      <td>1.797689</td>\n",
       "      <td>0.005237</td>\n",
       "      <td>0.250489</td>\n",
       "      <td>-1</td>\n",
       "      <td>-0.718796</td>\n",
       "      <td>0</td>\n",
       "      <td>0.747227</td>\n",
       "      <td>5.284354</td>\n",
       "      <td>-1.983446</td>\n",
       "    </tr>\n",
       "    <tr>\n",
       "      <th>1</th>\n",
       "      <td>0</td>\n",
       "      <td>3</td>\n",
       "      <td>short_strip</td>\n",
       "      <td>0</td>\n",
       "      <td>helical_expanding</td>\n",
       "      <td>0.040474</td>\n",
       "      <td>1.797689</td>\n",
       "      <td>0.005237</td>\n",
       "      <td>0.250489</td>\n",
       "      <td>-1</td>\n",
       "      <td>-0.718796</td>\n",
       "      <td>1</td>\n",
       "      <td>1.077888</td>\n",
       "      <td>3.871574</td>\n",
       "      <td>-2.997883</td>\n",
       "    </tr>\n",
       "    <tr>\n",
       "      <th>2</th>\n",
       "      <td>0</td>\n",
       "      <td>5</td>\n",
       "      <td>short_strip</td>\n",
       "      <td>0</td>\n",
       "      <td>helical_expanding</td>\n",
       "      <td>0.040474</td>\n",
       "      <td>1.797689</td>\n",
       "      <td>0.005237</td>\n",
       "      <td>0.250489</td>\n",
       "      <td>-1</td>\n",
       "      <td>-0.718796</td>\n",
       "      <td>2</td>\n",
       "      <td>1.436187</td>\n",
       "      <td>2.486336</td>\n",
       "      <td>-3.979522</td>\n",
       "    </tr>\n",
       "  </tbody>\n",
       "</table>\n",
       "</div>"
      ],
      "text/plain": [
       "   event_id  sub_detector_id sub_detector_type  track_id         track_type  \\\n",
       "0         0                1       short_strip         0  helical_expanding   \n",
       "1         0                3       short_strip         0  helical_expanding   \n",
       "2         0                5       short_strip         0  helical_expanding   \n",
       "\n",
       "   radial_const  azimuthal_const  pitch_const  radial_coeff  azimuthal_coeff  \\\n",
       "0      0.040474         1.797689     0.005237      0.250489               -1   \n",
       "1      0.040474         1.797689     0.005237      0.250489               -1   \n",
       "2      0.040474         1.797689     0.005237      0.250489               -1   \n",
       "\n",
       "   pitch_coeff  hit_id     hit_r  hit_theta     hit_z  \n",
       "0    -0.718796       0  0.747227   5.284354 -1.983446  \n",
       "1    -0.718796       1  1.077888   3.871574 -2.997883  \n",
       "2    -0.718796       2  1.436187   2.486336 -3.979522  "
      ]
     },
     "execution_count": 9,
     "metadata": {},
     "output_type": "execute_result"
    }
   ],
   "source": [
    "v.head(3)"
   ]
  },
  {
   "cell_type": "code",
   "execution_count": 10,
   "id": "f3290059",
   "metadata": {},
   "outputs": [],
   "source": [
    "rows_with_event_id_zero = v[v['event_id'] == 0]"
   ]
  },
  {
   "cell_type": "code",
   "execution_count": 12,
   "id": "a3f0673c",
   "metadata": {},
   "outputs": [],
   "source": [
    "new_df=rows_with_event_id_zero[['hit_id','hit_r','hit_theta','hit_z']]"
   ]
  },
  {
   "cell_type": "code",
   "execution_count": 14,
   "id": "5585517e",
   "metadata": {},
   "outputs": [],
   "source": [
    "new_df.set_index('hit_id',inplace=True)"
   ]
  },
  {
   "cell_type": "code",
   "execution_count": 17,
   "id": "50db1d55",
   "metadata": {},
   "outputs": [
    {
     "name": "stderr",
     "output_type": "stream",
     "text": [
      "<ipython-input-17-90f79e2eaeec>:1: SettingWithCopyWarning: \n",
      "A value is trying to be set on a copy of a slice from a DataFrame.\n",
      "Try using .loc[row_indexer,col_indexer] = value instead\n",
      "\n",
      "See the caveats in the documentation: https://pandas.pydata.org/pandas-docs/stable/user_guide/indexing.html#returning-a-view-versus-a-copy\n",
      "  new_df['hit_x']=new_df['hit_r']*np.sin(new_df['hit_theta'])\n",
      "<ipython-input-17-90f79e2eaeec>:2: SettingWithCopyWarning: \n",
      "A value is trying to be set on a copy of a slice from a DataFrame.\n",
      "Try using .loc[row_indexer,col_indexer] = value instead\n",
      "\n",
      "See the caveats in the documentation: https://pandas.pydata.org/pandas-docs/stable/user_guide/indexing.html#returning-a-view-versus-a-copy\n",
      "  new_df['hit_y']=new_df['hit_r']*np.cos(new_df['hit_theta'])\n"
     ]
    },
    {
     "data": {
      "text/html": [
       "<div>\n",
       "<style scoped>\n",
       "    .dataframe tbody tr th:only-of-type {\n",
       "        vertical-align: middle;\n",
       "    }\n",
       "\n",
       "    .dataframe tbody tr th {\n",
       "        vertical-align: top;\n",
       "    }\n",
       "\n",
       "    .dataframe thead th {\n",
       "        text-align: right;\n",
       "    }\n",
       "</style>\n",
       "<table border=\"1\" class=\"dataframe\">\n",
       "  <thead>\n",
       "    <tr style=\"text-align: right;\">\n",
       "      <th></th>\n",
       "      <th>hit_x</th>\n",
       "      <th>hit_y</th>\n",
       "      <th>hit_z</th>\n",
       "    </tr>\n",
       "    <tr>\n",
       "      <th>hit_id</th>\n",
       "      <th></th>\n",
       "      <th></th>\n",
       "      <th></th>\n",
       "    </tr>\n",
       "  </thead>\n",
       "  <tbody>\n",
       "    <tr>\n",
       "      <th>0</th>\n",
       "      <td>-0.628298</td>\n",
       "      <td>0.404463</td>\n",
       "      <td>-1.983446</td>\n",
       "    </tr>\n",
       "    <tr>\n",
       "      <th>1</th>\n",
       "      <td>-0.718796</td>\n",
       "      <td>-0.803228</td>\n",
       "      <td>-2.997883</td>\n",
       "    </tr>\n",
       "    <tr>\n",
       "      <th>2</th>\n",
       "      <td>0.875159</td>\n",
       "      <td>-1.138740</td>\n",
       "      <td>-3.979522</td>\n",
       "    </tr>\n",
       "    <tr>\n",
       "      <th>3</th>\n",
       "      <td>1.617943</td>\n",
       "      <td>0.740712</td>\n",
       "      <td>-5.019919</td>\n",
       "    </tr>\n",
       "    <tr>\n",
       "      <th>4</th>\n",
       "      <td>-0.636256</td>\n",
       "      <td>2.033484</td>\n",
       "      <td>-6.029640</td>\n",
       "    </tr>\n",
       "    <tr>\n",
       "      <th>5</th>\n",
       "      <td>-2.469909</td>\n",
       "      <td>-0.208080</td>\n",
       "      <td>-7.031078</td>\n",
       "    </tr>\n",
       "    <tr>\n",
       "      <th>6</th>\n",
       "      <td>-0.351125</td>\n",
       "      <td>-2.810445</td>\n",
       "      <td>-7.993486</td>\n",
       "    </tr>\n",
       "    <tr>\n",
       "      <th>7</th>\n",
       "      <td>3.084340</td>\n",
       "      <td>-0.791833</td>\n",
       "      <td>-8.974554</td>\n",
       "    </tr>\n",
       "    <tr>\n",
       "      <th>8</th>\n",
       "      <td>1.506305</td>\n",
       "      <td>3.196817</td>\n",
       "      <td>-10.012223</td>\n",
       "    </tr>\n",
       "  </tbody>\n",
       "</table>\n",
       "</div>"
      ],
      "text/plain": [
       "           hit_x     hit_y      hit_z\n",
       "hit_id                               \n",
       "0      -0.628298  0.404463  -1.983446\n",
       "1      -0.718796 -0.803228  -2.997883\n",
       "2       0.875159 -1.138740  -3.979522\n",
       "3       1.617943  0.740712  -5.019919\n",
       "4      -0.636256  2.033484  -6.029640\n",
       "5      -2.469909 -0.208080  -7.031078\n",
       "6      -0.351125 -2.810445  -7.993486\n",
       "7       3.084340 -0.791833  -8.974554\n",
       "8       1.506305  3.196817 -10.012223"
      ]
     },
     "execution_count": 17,
     "metadata": {},
     "output_type": "execute_result"
    }
   ],
   "source": [
    "new_df['hit_x']=new_df['hit_r']*np.sin(new_df['hit_theta'])\n",
    "new_df['hit_y']=new_df['hit_r']*np.cos(new_df['hit_theta'])\n",
    "new_df=new_df[['hit_x','hit_y','hit_z']]\n",
    "new_df"
   ]
  },
  {
   "cell_type": "code",
   "execution_count": 25,
   "id": "739e2860",
   "metadata": {},
   "outputs": [
    {
     "name": "stdout",
     "output_type": "stream",
     "text": [
      "Adjacency matrix prepared...\n"
     ]
    }
   ],
   "source": [
    "#Reduced adjacency matrix A\n",
    "cut=5\n",
    "#A[i][j]==1 implies there is an edge between i, j-th nodes.\n",
    "A=[[0 for _ in range(cut)] for _ in range(cut)]\n",
    "#Collect edges with its end in the \"cut\" bound\n",
    "for i in range(4):\n",
    "    A[i][i+1]=1\n",
    "print(\"Adjacency matrix prepared...\")"
   ]
  },
  {
   "cell_type": "code",
   "execution_count": 33,
   "id": "da98d5ed",
   "metadata": {},
   "outputs": [
    {
     "name": "stdout",
     "output_type": "stream",
     "text": [
      "All 3 features encoded in QC...\n"
     ]
    }
   ],
   "source": [
    "from qiskit import QuantumCircuit\n",
    "from qiskit.circuit import Parameter\n",
    "# Reduced colored X data\n",
    "raw_data=new_df[:cut].values\n",
    "# Create a quantum circuit with Nv qubits\n",
    "Nv = len(raw_data)\n",
    "num_qubits = Nv * 3  # 3 qubits per row (x,y,z)\n",
    "# Initialize a quantum circuit\n",
    "import math\n",
    "qc = QuantumCircuit(num_qubits)\n",
    "#feature = np.random.random(size=(cut*3))\n",
    "feature = []\n",
    "for i in range(num_qubits):\n",
    "    feature.append(Parameter('phi_{}'.format(i)))\n",
    "# Encode each feature value into a qubit \n",
    "for i in range(Nv):\n",
    "    for j in range(3):\n",
    "        if j==0:\n",
    "            qc.rx(feature[i*3+j], i * 3+j)\n",
    "        elif j==1:\n",
    "            qc.ry(feature[i*3+j], i * 3+j)\n",
    "        else:\n",
    "            qc.rz(feature[i*3+j], i * 3+j)\n",
    "    #Entangle 3 positions\n",
    "    qc.cx(i * 3, i * 3 + 1)\n",
    "    qc.cx(i * 3 + 1, i * 3 + 2)\n",
    "    qc.cx(i * 3 + 2, i * 3)\n",
    "# Encode each feature value into a qubit \n",
    "print(\"All 3 features encoded in QC...\")"
   ]
  },
  {
   "cell_type": "code",
   "execution_count": 34,
   "id": "c4f08f39",
   "metadata": {},
   "outputs": [
    {
     "name": "stdout",
     "output_type": "stream",
     "text": [
      "Entangling qubits using fake adjacency matrix...\n",
      "Parameterized quantum circuit ready...\n"
     ]
    }
   ],
   "source": [
    "# Define a list of trainable parameters for the entanglement\n",
    "num_params = len(A)  # Number of trainable parameters for the entanglement\n",
    "ansatz = []\n",
    "for i in range(num_params):\n",
    "    ansatz.append(Parameter('theta_{}'.format(i)))\n",
    "print(\"Entangling qubits using fake adjacency matrix...\")\n",
    "# Apply trainable entanglement gates based on adjacency matrix A\n",
    "for i in range(len(A)):\n",
    "    qc.ry(ansatz[i],i*3)\n",
    "for i in range(len(A)):\n",
    "    for j in range(i + 1, len(A)):\n",
    "        if A[i][j] == 1:\n",
    "            # Use trainable parameters for entanglement angles\n",
    "            qc.cx(i * 3, j * 3)\n",
    "print(\"Parameterized quantum circuit ready...\")"
   ]
  },
  {
   "cell_type": "code",
   "execution_count": 35,
   "id": "c36947de",
   "metadata": {},
   "outputs": [
    {
     "name": "stdout",
     "output_type": "stream",
     "text": [
      "Compare Y with the following positions..\n",
      "[0, 1, 1, 1, 1]\n"
     ]
    }
   ],
   "source": [
    "# Add measurement operations based on adjacency matrix A\n",
    "look = [0 for _ in range(len(A))]\n",
    "for i in range(len(A)):\n",
    "    for j in range(i + 1, len(A)):\n",
    "        if A[i][j] == 1:\n",
    "            look[j]=1\n",
    "#Edge info is collected in look\n",
    "#Would like to compare it with QNN output\n",
    "print(\"Compare Y with the following positions..\")\n",
    "print(look)"
   ]
  },
  {
   "cell_type": "code",
   "execution_count": 36,
   "id": "c5bd8bee",
   "metadata": {},
   "outputs": [
    {
     "data": {
      "image/png": "[encoded data removed]",
      "text/plain": [
       "<Figure size 641.523x927.08 with 1 Axes>"
      ]
     },
     "execution_count": 36,
     "metadata": {},
     "output_type": "execute_result"
    }
   ],
   "source": [
    "from qiskit import transpile\n",
    "# Transpile the circuit for execution\n",
    "simulator = Aer.get_backend('qasm_simulator')\n",
    "full_circuit = transpile(qc, simulator)\n",
    "# Visualize the transpiled circuit\n",
    "full_circuit.draw(output='mpl')"
   ]
  },
  {
   "cell_type": "code",
   "execution_count": 37,
   "id": "1b7cecff",
   "metadata": {},
   "outputs": [],
   "source": [
    "#Implement quantum neural network\n",
    "from qiskit_machine_learning.neural_networks import SamplerQNN, EstimatorQNN\n",
    "#Custom interpreter for our purpose:\n",
    "#Create size Ne binary string\n",
    "def custom_interpret(x):\n",
    "    binary_str=\"{:b}\".format(x)\n",
    "    slice_length = len(binary_str) // Nv\n",
    "    results = 0\n",
    "    for i in range(Nv):\n",
    "        s, e = i * slice_length, (i + 1) * slice_length\n",
    "        #Chop up the binary string into Nv pieces\n",
    "        slice_binary = binary_str[s:e]\n",
    "        #Collect information for each piece\n",
    "        parity = slice_binary.count(\"1\") % 2\n",
    "        #Form an integer using the bits\n",
    "        results+=(parity*2**i)\n",
    "    return results\n",
    "# construct QNN\n",
    "inp=np.random.random(size=(cut*3))\n",
    "sampler_qnn = SamplerQNN(\n",
    "    circuit=qc,\n",
    "    input_params=inp,\n",
    "    weight_params=ansatz,\n",
    "    interpret = custom_interpret,\n",
    "    #Output shape is 2^(number of qubits)\n",
    "    output_shape = 2**Nv\n",
    ")"
   ]
  },
  {
   "cell_type": "code",
   "execution_count": 39,
   "id": "28b7bf70",
   "metadata": {},
   "outputs": [
    {
     "data": {
      "text/plain": [
       "array([-0.6282976 ,  0.40446345, -1.98344629, -0.71879567, -0.80322845,\n",
       "       -2.99788282,  0.87515937, -1.13874032, -3.97952187,  1.61794297,\n",
       "        0.7407116 , -5.01991945, -0.63625601,  2.0334843 , -6.02964045])"
      ]
     },
     "execution_count": 39,
     "metadata": {},
     "output_type": "execute_result"
    }
   ],
   "source": [
    "flat_raw_data"
   ]
  },
  {
   "cell_type": "code",
   "execution_count": 43,
   "id": "200b54c6",
   "metadata": {},
   "outputs": [
    {
     "data": {
      "image/png": "[encoded data removed]",
      "text/plain": [
       "<Figure size 432x288 with 1 Axes>"
      ]
     },
     "metadata": {
      "needs_background": "light"
     },
     "output_type": "display_data"
    },
    {
     "name": "stdout",
     "output_type": "stream",
     "text": [
      "Fitted!\n"
     ]
    }
   ],
   "source": [
    "# Callback function to plot the loss\n",
    "from IPython.display import clear_output\n",
    "#Set the same label for all 3 qubits in a single node\n",
    "def expand_y(y):\n",
    "    n=len(y)\n",
    "    Y=[0 for _ in range(3*n)]\n",
    "    for i in range(n):\n",
    "        for j in range(3):\n",
    "            Y[3*i+j]=y[i]\n",
    "    return np.array(Y)\n",
    "objective_func_vals = []\n",
    "#Loss graph to track the training\n",
    "def callback_graph(weights, obj_func_eval):\n",
    "    clear_output(wait=True)\n",
    "    objective_func_vals.append(obj_func_eval)\n",
    "    plt.title(\"Objective function value against iteration\")\n",
    "    plt.xlabel(\"Iteration\")\n",
    "    plt.ylabel(\"Objective function value\")\n",
    "    plt.plot(range(len(objective_func_vals)), objective_func_vals)\n",
    "    plt.show()\n",
    "def simple_callback(weights,obj_func_eval):\n",
    "    print(\"training...\",\"current loss is...\",obj_func_eval)\n",
    "# Create a neural network classifier\n",
    "sampler_classifier = NeuralNetworkClassifier(\n",
    "    neural_network=sampler_qnn,optimizer=COBYLA(maxiter=20),\n",
    "    loss='cross_entropy',callback=callback_graph)\n",
    "Y = [0,1,1,1,1]  # True edge labels of dimension\n",
    "y = expand_y(Y)\n",
    "flat_raw_data=raw_data.flatten()\n",
    "# Train the classifier using the encoded quantum circuits and labels\n",
    "sampler_classifier.fit(flat_raw_data, y)\n",
    "print(\"Fitted!\")"
   ]
  },
  {
   "cell_type": "code",
   "execution_count": 44,
   "id": "e8023e14",
   "metadata": {},
   "outputs": [
    {
     "name": "stdout",
     "output_type": "stream",
     "text": [
      "Compare  10101  with  [0, 1, 1, 1, 1]  in the following position  [0, 1, 1, 1, 1]\n"
     ]
    }
   ],
   "source": [
    "# It's supposed to produce something like \n",
    "# look='101000'\n",
    "def intTobit(arr):\n",
    "    n=arr[0]\n",
    "    st=''\n",
    "    while n>0:\n",
    "        n,q=divmod(n,2)\n",
    "        st+=str(q)\n",
    "    if len(st)<Nv:\n",
    "        st+='0'\n",
    "    return st[::-1]\n",
    "print(\"Compare \",intTobit(sampler_classifier.predict(flat_raw_data)),\n",
    "      \" with \",Y,\" in the following position \",look)"
   ]
  },
  {
   "cell_type": "code",
   "execution_count": null,
   "id": "e1aa0c6d",
   "metadata": {},
   "outputs": [],
   "source": []
  }
 ],
 "metadata": {
  "kernelspec": {
   "display_name": "Python 3",
   "language": "python",
   "name": "python3"
  },
  "language_info": {
   "codemirror_mode": {
    "name": "ipython",
    "version": 3
   },
   "file_extension": ".py",
   "mimetype": "text/x-python",
   "name": "python",
   "nbconvert_exporter": "python",
   "pygments_lexer": "ipython3",
   "version": "3.8.8"
  }
 },
 "nbformat": 4,
 "nbformat_minor": 5
}
