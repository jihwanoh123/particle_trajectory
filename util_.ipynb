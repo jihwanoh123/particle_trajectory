{
 "cells": [
  {
   "cell_type": "code",
   "execution_count": 2,
   "id": "957e05cf",
   "metadata": {},
   "outputs": [],
   "source": [
    "import numpy as np\n",
    "import matplotlib.pyplot as plt\n",
    "from collections import namedtuple\n",
    "#internal\n",
    "import os, sys, glob, yaml, datetime, argparse\n",
    "import csv\n",
    "import tensorflow as tf\n",
    "\n",
    "Graph = namedtuple('Graph', ['X', 'Ri', 'Ro', 'y'])\n",
    "\n",
    "class GraphDataset():\n",
    "    def __init__(self, input_dir, n_samples=None):\n",
    "        input_dir = os.path.expandvars(input_dir)\n",
    "        filenames = [os.path.join(input_dir, f) for f in os.listdir(input_dir)\n",
    "                     if f.startswith('event') and f.endswith('.npz')]\n",
    "        self.filenames = (\n",
    "            filenames[:n_samples] if n_samples is not None else filenames)\n",
    "\n",
    "    def __getitem__(self, index):\n",
    "        return load_graph(self.filenames[index])\n",
    "\n",
    "    def __len__(self):\n",
    "        return len(self.filenames)\n",
    "def get_dataset(input_dir,n_files):\n",
    "    return GraphDataset(input_dir, n_files)\n",
    "def load_graph(filename):\n",
    "    \"\"\"Reade a single graph NPZ\"\"\"\n",
    "    with np.load(filename) as f:\n",
    "        return sparse_to_graph(**dict(f.items()))\n",
    "def sparse_to_graph(X, Ri_rows, Ri_cols, Ro_rows, Ro_cols, y, dtype=np.float32):\n",
    "    n_nodes, n_edges = X.shape[0], Ri_rows.shape[0]\n",
    "    Ri = np.zeros((n_nodes, n_edges), dtype=dtype)\n",
    "    Ro = np.zeros((n_nodes, n_edges), dtype=dtype)\n",
    "    Ri[Ri_rows, Ri_cols] = 1\n",
    "    Ro[Ro_rows, Ro_cols] = 1\n",
    "    return Graph(X, Ri, Ro, y)"
   ]
  },
  {
   "cell_type": "code",
   "execution_count": 3,
   "id": "9af17e23",
   "metadata": {},
   "outputs": [],
   "source": [
    "current_directory = os.getcwd()"
   ]
  },
  {
   "cell_type": "code",
   "execution_count": 4,
   "id": "3895fe91",
   "metadata": {},
   "outputs": [
    {
     "data": {
      "text/plain": [
       "<__main__.GraphDataset at 0x7fe497eac370>"
      ]
     },
     "execution_count": 4,
     "metadata": {},
     "output_type": "execute_result"
    }
   ],
   "source": [
    "get_dataset(current_directory,1)"
   ]
  },
  {
   "cell_type": "code",
   "execution_count": 9,
   "id": "4ad9220c",
   "metadata": {},
   "outputs": [],
   "source": [
    "graph_ex=load_graph('event000001000_g000.npz')"
   ]
  },
  {
   "cell_type": "code",
   "execution_count": 19,
   "id": "ea8d1df3",
   "metadata": {},
   "outputs": [],
   "source": [
    "X=graph_ex.X\n",
    "Ri=graph_ex.Ri\n",
    "Ro=graph_ex.Ro\n",
    "y=graph_ex.y"
   ]
  },
  {
   "cell_type": "code",
   "execution_count": 13,
   "id": "4979a99c",
   "metadata": {},
   "outputs": [
    {
     "data": {
      "text/plain": [
       "(6437, 3)"
      ]
     },
     "execution_count": 13,
     "metadata": {},
     "output_type": "execute_result"
    }
   ],
   "source": [
    "X.shape"
   ]
  },
  {
   "cell_type": "code",
   "execution_count": 16,
   "id": "d637d5a5",
   "metadata": {},
   "outputs": [
    {
     "name": "stdout",
     "output_type": "stream",
     "text": [
      "X shape:  (6437, 3)  Ri shape:  (6437, 10670)  Ro shape:  (6437, 10670)  y shape:  (10670,)\n"
     ]
    }
   ],
   "source": [
    "print(\"X shape: \", X.shape,\" Ri shape: \", Ri.shape,\n",
    "      \" Ro shape: \", Ro.shape,\" y shape: \", y.shape)"
   ]
  },
  {
   "cell_type": "code",
   "execution_count": 26,
   "id": "20c3c6f8",
   "metadata": {},
   "outputs": [],
   "source": [
    "y=y.astype(np.int32)\n",
    "Ri = Ri.astype(np.int32)\n",
    "Ro = Ro.astype(np.int32)"
   ]
  },
  {
   "cell_type": "code",
   "execution_count": null,
   "id": "b0f0bac7",
   "metadata": {},
   "outputs": [],
   "source": [
    "#Create coloring label\n",
    "def graph_coloring(X, Ri, Ro, y):\n",
    "    NV, NE = Ri.shape\n",
    "    visited = np.zeros(NV, dtype=bool)\n",
    "    colors = np.zeros(NV, dtype=int)\n",
    "    \n",
    "    def dfs(node, color):\n",
    "        visited[node] = True\n",
    "        colors[node] = color\n",
    "        \n",
    "        for edge in range(NE):\n",
    "            if Ri[node, edge] == 1 and not visited[Ro[node, edge]]:\n",
    "                dfs(Ro[node, edge], color)\n",
    "    \n",
    "    color = 0\n",
    "    for node in range(NV):\n",
    "        if not visited[node]:\n",
    "            dfs(node, color)\n",
    "            color += 1\n",
    "    \n",
    "    return colors\n",
    "\n",
    "colors = graph_coloring(X, Ri, Ro, y)\n",
    "print(\"Graph Coloring:\", colors)"
   ]
  },
  {
   "cell_type": "code",
   "execution_count": null,
   "id": "6e9ac7d8",
   "metadata": {},
   "outputs": [],
   "source": []
  }
 ],
 "metadata": {
  "kernelspec": {
   "display_name": "Python 3",
   "language": "python",
   "name": "python3"
  },
  "language_info": {
   "codemirror_mode": {
    "name": "ipython",
    "version": 3
   },
   "file_extension": ".py",
   "mimetype": "text/x-python",
   "name": "python",
   "nbconvert_exporter": "python",
   "pygments_lexer": "ipython3",
   "version": "3.8.8"
  }
 },
 "nbformat": 4,
 "nbformat_minor": 5
}
