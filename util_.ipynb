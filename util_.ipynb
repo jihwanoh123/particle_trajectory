{
 "cells": [
  {
   "cell_type": "code",
   "execution_count": 2,
   "id": "ef9990d1",
   "metadata": {},
   "outputs": [],
   "source": [
    "#Grab some relevant part of util.py in qtrkx-gnn-tracking\n",
    "\n",
    "import numpy as np\n",
    "import matplotlib.pyplot as plt\n",
    "from collections import namedtuple\n",
    "#internal\n",
    "import os, sys, glob, yaml, datetime, argparse\n",
    "import csv\n",
    "import tensorflow as tf\n",
    "\n",
    "Graph = namedtuple('Graph', ['X', 'Ri', 'Ro', 'y'])\n",
    "\n",
    "class GraphDataset():\n",
    "    def __init__(self, input_dir, n_samples=None):\n",
    "        input_dir = os.path.expandvars(input_dir)\n",
    "        filenames = [os.path.join(input_dir, f) for f in os.listdir(input_dir)\n",
    "                     if f.startswith('event') and f.endswith('.npz')]\n",
    "        self.filenames = (\n",
    "            filenames[:n_samples] if n_samples is not None else filenames)\n",
    "\n",
    "    def __getitem__(self, index):\n",
    "        return load_graph(self.filenames[index])\n",
    "\n",
    "    def __len__(self):\n",
    "        return len(self.filenames)\n",
    "def get_dataset(input_dir,n_files):\n",
    "    return GraphDataset(input_dir, n_files)\n",
    "def load_graph(filename):\n",
    "    \"\"\"Reade a single graph NPZ\"\"\"\n",
    "    with np.load(filename) as f:\n",
    "        return sparse_to_graph(**dict(f.items()))\n",
    "def sparse_to_graph(X, Ri_rows, Ri_cols, Ro_rows, Ro_cols, y, dtype=np.float32):\n",
    "    n_nodes, n_edges = X.shape[0], Ri_rows.shape[0]\n",
    "    Ri = np.zeros((n_nodes, n_edges), dtype=dtype)\n",
    "    Ro = np.zeros((n_nodes, n_edges), dtype=dtype)\n",
    "    Ri[Ri_rows, Ri_cols] = 1\n",
    "    Ro[Ro_rows, Ro_cols] = 1\n",
    "    return Graph(X, Ri, Ro, y)"
   ]
  },
  {
   "cell_type": "code",
   "execution_count": 3,
   "id": "5277a6a9",
   "metadata": {},
   "outputs": [],
   "source": [
    "current_directory = os.getcwd()"
   ]
  },
  {
   "cell_type": "code",
   "execution_count": 4,
   "id": "1968ed80",
   "metadata": {},
   "outputs": [
    {
     "data": {
      "text/plain": [
       "<__main__.GraphDataset at 0x7fe497eac370>"
      ]
     },
     "execution_count": 4,
     "metadata": {},
     "output_type": "execute_result"
    }
   ],
   "source": [
    "get_dataset(current_directory,1)"
   ]
  },
  {
   "cell_type": "code",
   "execution_count": 9,
   "id": "7e42d898",
   "metadata": {},
   "outputs": [],
   "source": [
    "#Read one event\n",
    "graph_ex=load_graph('event000001000_g000.npz')"
   ]
  },
  {
   "cell_type": "code",
   "execution_count": 19,
   "id": "9d9618cd",
   "metadata": {},
   "outputs": [],
   "source": [
    "#Load raw data\n",
    "X=graph_ex.X\n",
    "Ri=graph_ex.Ri\n",
    "Ro=graph_ex.Ro\n",
    "y=graph_ex.y"
   ]
  },
  {
   "cell_type": "code",
   "execution_count": 16,
   "id": "debab8d3",
   "metadata": {},
   "outputs": [
    {
     "name": "stdout",
     "output_type": "stream",
     "text": [
      "X shape:  (6437, 3)  Ri shape:  (6437, 10670)  Ro shape:  (6437, 10670)  y shape:  (10670,)\n"
     ]
    }
   ],
   "source": [
    "print(\"X shape: \", X.shape,\" Ri shape: \", Ri.shape,\n",
    "      \" Ro shape: \", Ro.shape,\" y shape: \", y.shape)"
   ]
  },
  {
   "cell_type": "code",
   "execution_count": 26,
   "id": "ac1461f6",
   "metadata": {},
   "outputs": [],
   "source": [
    "#Need to change type for later use.\n",
    "y=y.astype(np.int32)\n",
    "Ri = Ri.astype(np.int32)\n",
    "Ro = Ro.astype(np.int32)"
   ]
  },
  {
   "cell_type": "code",
   "execution_count": 33,
   "id": "46c64e4a",
   "metadata": {},
   "outputs": [
    {
     "data": {
      "text/plain": [
       "5162"
      ]
     },
     "execution_count": 33,
     "metadata": {},
     "output_type": "execute_result"
    }
   ],
   "source": [
    "y.sum()"
   ]
  },
  {
   "cell_type": "code",
   "execution_count": null,
   "id": "b2d4c438",
   "metadata": {},
   "outputs": [
    {
     "name": "stdout",
     "output_type": "stream",
     "text": [
      "Start getting neighborhood information\n",
      "Performing  0 -th iteration...\n"
     ]
    }
   ],
   "source": [
    "import numpy as np\n",
    "\n",
    "def graph_coloring(Ri, Ro, y):\n",
    "    # Get the number of nodes and edges\n",
    "    NV, NE = Ri.shape\n",
    "\n",
    "    # Initialize the coloring vector\n",
    "    coloring = np.zeros(NV, dtype=int)\n",
    "\n",
    "    # Create a dictionary to store the neighbors of each node\n",
    "    neighbors = {i: [] for i in range(NV)}\n",
    "    print(\"Start getting neighborhood information\")\n",
    "    for k in range(NE):\n",
    "        if k%2000==0: \n",
    "            print(\"Performing \",k,\"-th iteration...\")\n",
    "        if y[k] == 1:\n",
    "            for j in range(NV):\n",
    "                if Ro[j, k] == 1:\n",
    "                    for i in range(NV):\n",
    "                        if Ri[i, k] == 1 and i != j:\n",
    "                            neighbors[j].append(i)\n",
    "    print(\"Start greedy coloring.\")\n",
    "    # Greedy coloring\n",
    "    for node in range(NV):\n",
    "        if node%1000==0:\n",
    "            print(\"Performing \",node,\"-th iteration...\")\n",
    "        used_colors = set(coloring[n] for n in neighbors[node])\n",
    "        # Find the smallest unused color\n",
    "        color = 0\n",
    "        while color in used_colors:\n",
    "            color += 1\n",
    "        coloring[node] = color\n",
    "    return coloring\n",
    "\n",
    "coloring = graph_coloring(Ri, Ro, y)\n",
    "print(coloring)"
   ]
  },
  {
   "cell_type": "code",
   "execution_count": 36,
   "id": "4b17ade9",
   "metadata": {},
   "outputs": [
    {
     "data": {
      "text/plain": [
       "5162"
      ]
     },
     "execution_count": 36,
     "metadata": {},
     "output_type": "execute_result"
    }
   ],
   "source": [
    "coloring.sum()"
   ]
  },
  {
   "cell_type": "code",
   "execution_count": 37,
   "id": "9396296e",
   "metadata": {},
   "outputs": [
    {
     "data": {
      "text/plain": [
       "array([1, 0, 0, ..., 1, 1, 1], dtype=int32)"
      ]
     },
     "execution_count": 37,
     "metadata": {},
     "output_type": "execute_result"
    }
   ],
   "source": [
    "y"
   ]
  },
  {
   "cell_type": "code",
   "execution_count": 38,
   "id": "e2463700",
   "metadata": {},
   "outputs": [
    {
     "data": {
      "text/plain": [
       "5162"
      ]
     },
     "execution_count": 38,
     "metadata": {},
     "output_type": "execute_result"
    }
   ],
   "source": [
    "y.sum()"
   ]
  },
  {
   "cell_type": "code",
   "execution_count": null,
   "id": "1241da2c",
   "metadata": {},
   "outputs": [],
   "source": []
  }
 ],
 "metadata": {
  "kernelspec": {
   "display_name": "Python 3",
   "language": "python",
   "name": "python3"
  }
 },
 "nbformat": 4,
 "nbformat_minor": 5
}
