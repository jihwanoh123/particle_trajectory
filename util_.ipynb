{
 "cells": [
  {
   "cell_type": "code",
   "execution_count": 2,
   "id": "f0b46305",
   "metadata": {},
   "outputs": [],
   "source": [
    "import numpy as np\n",
    "import matplotlib.pyplot as plt\n",
    "from collections import namedtuple\n",
    "#internal\n",
    "import os, sys, glob, yaml, datetime, argparse\n",
    "import csv\n",
    "import tensorflow as tf\n",
    "\n",
    "Graph = namedtuple('Graph', ['X', 'Ri', 'Ro', 'y'])\n",
    "\n",
    "class GraphDataset():\n",
    "    def __init__(self, input_dir, n_samples=None):\n",
    "        input_dir = os.path.expandvars(input_dir)\n",
    "        filenames = [os.path.join(input_dir, f) for f in os.listdir(input_dir)\n",
    "                     if f.startswith('event') and f.endswith('.npz')]\n",
    "        self.filenames = (\n",
    "            filenames[:n_samples] if n_samples is not None else filenames)\n",
    "\n",
    "    def __getitem__(self, index):\n",
    "        return load_graph(self.filenames[index])\n",
    "\n",
    "    def __len__(self):\n",
    "        return len(self.filenames)\n",
    "def get_dataset(input_dir,n_files):\n",
    "    return GraphDataset(input_dir, n_files)\n",
    "def load_graph(filename):\n",
    "    \"\"\"Reade a single graph NPZ\"\"\"\n",
    "    with np.load(filename) as f:\n",
    "        return sparse_to_graph(**dict(f.items()))\n",
    "def sparse_to_graph(X, Ri_rows, Ri_cols, Ro_rows, Ro_cols, y, dtype=np.float32):\n",
    "    n_nodes, n_edges = X.shape[0], Ri_rows.shape[0]\n",
    "    Ri = np.zeros((n_nodes, n_edges), dtype=dtype)\n",
    "    Ro = np.zeros((n_nodes, n_edges), dtype=dtype)\n",
    "    Ri[Ri_rows, Ri_cols] = 1\n",
    "    Ro[Ro_rows, Ro_cols] = 1\n",
    "    return Graph(X, Ri, Ro, y)"
   ]
  },
  {
   "cell_type": "code",
   "execution_count": 3,
   "id": "90b115a6",
   "metadata": {},
   "outputs": [],
   "source": [
    "current_directory = os.getcwd()"
   ]
  },
  {
   "cell_type": "code",
   "execution_count": 4,
   "id": "3d266e99",
   "metadata": {},
   "outputs": [
    {
     "data": {
      "text/plain": [
       "<__main__.GraphDataset at 0x7fe497eac370>"
      ]
     },
     "execution_count": 4,
     "metadata": {},
     "output_type": "execute_result"
    }
   ],
   "source": [
    "get_dataset(current_directory,1)"
   ]
  },
  {
   "cell_type": "code",
   "execution_count": 9,
   "id": "86822755",
   "metadata": {},
   "outputs": [],
   "source": [
    "graph_ex=load_graph('event000001000_g000.npz')"
   ]
  },
  {
   "cell_type": "code",
   "execution_count": 19,
   "id": "5dcb330e",
   "metadata": {},
   "outputs": [],
   "source": [
    "X=graph_ex.X\n",
    "Ri=graph_ex.Ri\n",
    "Ro=graph_ex.Ro\n",
    "y=graph_ex.y"
   ]
  },
  {
   "cell_type": "code",
   "execution_count": 13,
   "id": "957a0ec3",
   "metadata": {},
   "outputs": [
    {
     "data": {
      "text/plain": [
       "(6437, 3)"
      ]
     },
     "execution_count": 13,
     "metadata": {},
     "output_type": "execute_result"
    }
   ],
   "source": [
    "X.shape"
   ]
  },
  {
   "cell_type": "code",
   "execution_count": 16,
   "id": "3d273b3f",
   "metadata": {},
   "outputs": [
    {
     "name": "stdout",
     "output_type": "stream",
     "text": [
      "X shape:  (6437, 3)  Ri shape:  (6437, 10670)  Ro shape:  (6437, 10670)  y shape:  (10670,)\n"
     ]
    }
   ],
   "source": [
    "print(\"X shape: \", X.shape,\" Ri shape: \", Ri.shape,\n",
    "      \" Ro shape: \", Ro.shape,\" y shape: \", y.shape)"
   ]
  },
  {
   "cell_type": "code",
   "execution_count": 26,
   "id": "3bbcc3f7",
   "metadata": {},
   "outputs": [],
   "source": [
    "y=y.astype(np.int32)\n",
    "Ri = Ri.astype(np.int32)\n",
    "Ro = Ro.astype(np.int32)"
   ]
  },
  {
   "cell_type": "code",
   "execution_count": null,
   "id": "5feec59b",
   "metadata": {},
   "outputs": [],
   "source": [
    "import numpy as np\n",
    "\n",
    "def graph_coloring(X, Ri, Ro, y):\n",
    "    # Get the number of nodes and edges\n",
    "    NV, NE = Ri.shape\n",
    "\n",
    "    # Initialize the coloring vector\n",
    "    coloring = np.zeros(NV, dtype=int)\n",
    "\n",
    "    # Create a dictionary to store the neighbors of each node\n",
    "    neighbors = {i: [] for i in range(NV)}\n",
    "\n",
    "    for k in range(NE):\n",
    "        if y[k] == 1:\n",
    "            for j in range(NV):\n",
    "                if Ro[j, k] == 1:\n",
    "                    for i in range(NV):\n",
    "                        if Ri[i, k] == 1 and i != j:\n",
    "                            neighbors[j].append(coloring[i])\n",
    "\n",
    "    # Greedy coloring\n",
    "    available_colors = set(range(4))\n",
    "    for node in range(NV):\n",
    "        used_colors = set(neighbors[node])\n",
    "        available_colors -= used_colors\n",
    "        if available_colors:\n",
    "            coloring[node] = min(available_colors)\n",
    "        else:\n",
    "            # If all colors are used by neighbors, assign a new color\n",
    "            coloring[node] = max(coloring) + 1\n",
    "            available_colors.add(coloring[node])\n",
    "\n",
    "    return coloring\n",
    "\n",
    "# Example usage:\n",
    "# X, Ri, Ro, and y are your input arrays\n",
    "coloring = graph_coloring(X, Ri, Ro, y)\n",
    "print(coloring)"
   ]
  },
  {
   "cell_type": "code",
   "execution_count": null,
   "id": "179f75c4",
   "metadata": {},
   "outputs": [],
   "source": []
  }
 ],
 "metadata": {
  "kernelspec": {
   "display_name": "Python 3",
   "language": "python",
   "name": "python3"
  },
  "language_info": {
   "codemirror_mode": {
    "name": "ipython",
    "version": 3
   },
   "file_extension": ".py",
   "mimetype": "text/x-python",
   "name": "python",
   "nbconvert_exporter": "python",
   "pygments_lexer": "ipython3",
   "version": "3.8.8"
  }
 },
 "nbformat": 4,
 "nbformat_minor": 5
}
